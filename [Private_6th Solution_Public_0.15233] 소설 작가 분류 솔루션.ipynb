{
 "cells": [
  {
   "cell_type": "code",
   "execution_count": 16,
   "metadata": {
    "colab": {
     "base_uri": "https://localhost:8080/",
     "height": 388
    },
    "id": "5R_JpNz7FsY7",
    "outputId": "4f49ac85-d95b-4301-c242-e00cb138b74b",
    "scrolled": true
   },
   "outputs": [
    {
     "name": "stderr",
     "output_type": "stream",
     "text": [
      "[nltk_data] Downloading package stopwords to\n",
      "[nltk_data]     /home/yjunwoo14/nltk_data...\n",
      "[nltk_data]   Package stopwords is already up-to-date!\n"
     ]
    }
   ],
   "source": [
    "from time import time\n",
    "import numpy as np # linear algebra\n",
    "import pandas as pd # data processing, CSV file I/O (e.g. pd.read_csv)\n",
    "import matplotlib.pyplot as plt\n",
    "import seaborn as sns\n",
    "import tensorflow as tf\n",
    "import nltk\n",
    "nltk.download('stopwords')\n",
    "import string\n",
    "import xgboost as xgb\n",
    "from sklearn.feature_extraction.text import TfidfVectorizer, CountVectorizer\n",
    "from sklearn.decomposition import TruncatedSVD\n",
    "from sklearn import ensemble, metrics, model_selection, naive_bayes\n",
    "color = sns.color_palette()\n",
    "\n",
    "%matplotlib inline\n",
    "\n",
    "eng_stopwords = set(nltk.corpus.stopwords.words(\"english\"))\n",
    "pd.options.mode.chained_assignment = None"
   ]
  },
  {
   "cell_type": "markdown",
   "metadata": {},
   "source": [
    "데이터 살펴보기"
   ]
  },
  {
   "cell_type": "code",
   "execution_count": 17,
   "metadata": {
    "colab": {
     "base_uri": "https://localhost:8080/",
     "height": 244
    },
    "id": "PvomysW3FsZA",
    "outputId": "6bebea48-99cc-4bd9-9268-7b100aab4647"
   },
   "outputs": [
    {
     "name": "stdout",
     "output_type": "stream",
     "text": [
      "Number of rows in train dataset :  54879\n",
      "Number of rows in test dataset :  19617\n"
     ]
    }
   ],
   "source": [
    "## Read the train and test dataset and check the top few lines ##\n",
    "train_df = pd.read_csv('train.csv')\n",
    "test_df = pd.read_csv('test_x.csv')\n",
    "print(\"Number of rows in train dataset : \",train_df.shape[0])\n",
    "print(\"Number of rows in test dataset : \",test_df.shape[0])"
   ]
  },
  {
   "cell_type": "code",
   "execution_count": 18,
   "metadata": {
    "colab": {
     "base_uri": "https://localhost:8080/",
     "height": 204
    },
    "id": "y0uE4RsDFsZD",
    "outputId": "78d4f0ef-31a3-4355-cbd9-3526bf8976fc"
   },
   "outputs": [
    {
     "data": {
      "text/html": [
       "<div>\n",
       "<style scoped>\n",
       "    .dataframe tbody tr th:only-of-type {\n",
       "        vertical-align: middle;\n",
       "    }\n",
       "\n",
       "    .dataframe tbody tr th {\n",
       "        vertical-align: top;\n",
       "    }\n",
       "\n",
       "    .dataframe thead th {\n",
       "        text-align: right;\n",
       "    }\n",
       "</style>\n",
       "<table border=\"1\" class=\"dataframe\">\n",
       "  <thead>\n",
       "    <tr style=\"text-align: right;\">\n",
       "      <th></th>\n",
       "      <th>index</th>\n",
       "      <th>text</th>\n",
       "      <th>author</th>\n",
       "    </tr>\n",
       "  </thead>\n",
       "  <tbody>\n",
       "    <tr>\n",
       "      <th>0</th>\n",
       "      <td>0</td>\n",
       "      <td>He was almost choking. There was so much, so m...</td>\n",
       "      <td>3</td>\n",
       "    </tr>\n",
       "    <tr>\n",
       "      <th>1</th>\n",
       "      <td>1</td>\n",
       "      <td>“Your sister asked for it, I suppose?”</td>\n",
       "      <td>2</td>\n",
       "    </tr>\n",
       "    <tr>\n",
       "      <th>2</th>\n",
       "      <td>2</td>\n",
       "      <td>She was engaged one day as she walked, in per...</td>\n",
       "      <td>1</td>\n",
       "    </tr>\n",
       "    <tr>\n",
       "      <th>3</th>\n",
       "      <td>3</td>\n",
       "      <td>The captain was in the porch, keeping himself ...</td>\n",
       "      <td>4</td>\n",
       "    </tr>\n",
       "    <tr>\n",
       "      <th>4</th>\n",
       "      <td>4</td>\n",
       "      <td>“Have mercy, gentlemen!” odin flung up his han...</td>\n",
       "      <td>3</td>\n",
       "    </tr>\n",
       "  </tbody>\n",
       "</table>\n",
       "</div>"
      ],
      "text/plain": [
       "   index                                               text  author\n",
       "0      0  He was almost choking. There was so much, so m...       3\n",
       "1      1             “Your sister asked for it, I suppose?”       2\n",
       "2      2   She was engaged one day as she walked, in per...       1\n",
       "3      3  The captain was in the porch, keeping himself ...       4\n",
       "4      4  “Have mercy, gentlemen!” odin flung up his han...       3"
      ]
     },
     "execution_count": 18,
     "metadata": {},
     "output_type": "execute_result"
    }
   ],
   "source": [
    "train_df.head()"
   ]
  },
  {
   "cell_type": "code",
   "execution_count": 19,
   "metadata": {
    "colab": {
     "base_uri": "https://localhost:8080/"
    },
    "id": "_TKrMgCMFsZG",
    "outputId": "b3db4041-b616-4293-e651-fd7816eab182"
   },
   "outputs": [
    {
     "name": "stdout",
     "output_type": "stream",
     "text": [
      "Author name :  0\n",
      "'You were not here last Sunday night,' he said.\n",
      "I had scant luggage to take with me to London, for little of the little I possessed was adapted to my new station. But I began packing that same afternoon, and wildly packed up things that I knew I should want next morning, in a fiction that there was not a moment to be lost.\n",
      "‘Why, the fact is,’ returned odin, ‘Mr. odin had so completely hemmed him in, and was always ready with so many new points if an old one failed, that he could not escape from us. A most remarkable circumstance is, that I really don’t think he grasped this sum even so much for the gratification of his avarice, which was inordinate, as in the hatred he felt for odin. He said so to me, plainly. He said he would even have spent as much, to baulk or injure odin.’\n",
      "Dora was delighted with the little presents, and kissed me joyfully; but there was a shadow between us, however slight, and I had made up my mind that it should not be there. If there must be such a shadow anywhere, I would keep it for the future in my own breast.\n",
      "The kind tone of this answer, the sweet voice, the gentle manner, the absence of any accent of haughtiness or displeasure, took the girl completely by surprise, and she burst into tears.\n",
      "\n",
      "\n",
      "Author name :  1\n",
      " She was engaged one day as she walked, in perusing Jane’s last letter, and dwelling on some passages which proved that Jane had not written in spirits, when, instead of being again surprised by Mr. odin, she saw on looking up that odin was meeting her. Putting away the letter immediately and forcing a smile, she said:\n",
      "It suited odin best to think odin the one preferred on the very account of odin Hayter, whose pretensions she wished to see put an end to. She looked down very decidedly upon the Hayters, and thought it would be quite a misfortune to have the existing connection between the families renewed--very sad for herself and her children.\n",
      "The bustle in the vestibule, as she passed along an inner lobby, assured her that they were already in the house. She rushed to the drawing-room,--she entered it,--and saw only odin.\n",
      "“Oh! dear, no,” said her companion.\n",
      "From this day odin grew more comfortable. She felt that she had a friend, and the kindness of her cousin odin gave her better spirits with everybody else. The place became less strange, and the people less formidable; and if there were some amongst them whom she could not cease to fear, she began at least to know their ways, and to catch the best manner of conforming to them. The little rusticities and awkwardnesses which had at first made grievous inroads on the tranquillity of all, and not least of herself, necessarily wore away, and she was no longer materially afraid to appear before her uncle, nor did her aunt odin's voice make her start very much. To her cousins she became occasionally an acceptable companion. Though unworthy, from inferiority of age and strength, to be their constant associate, their pleasures and schemes were sometimes of a nature to make a third very useful, especially when that third was of an obliging, yielding temper; and they could not but own, when their aunt inquired into her faults, or their brother odin urged her claims to their kindness, that “odin was good-natured enough.”\n",
      "\n",
      "\n",
      "Author name :  2\n",
      "“Your sister asked for it, I suppose?”\n",
      "“A proper figure of a man at-arms,” said the little knight. “Why, man, you are no chicken, yet I warrant him the stronger man. See to that great stone from the coping which hath fodin upon the bridge. Four of my lazy varlets strove this day to carry it hence. I would that you two could put them to shame by budging it, though I fear that I overtask you, for it is of a grievous weight.”\n",
      " “This was an unexpected piece of luck. My data were coming more quickly than I could have reasonably hoped.\n",
      "Still the ticking in the hall. Still the breathing, deeper and fuller now, from the medium. Still the occasional flash, more welcome than ever, of the passing lights of the hansoms. What a gap we were bridging, the half-raised veil of the eternal on the one side and the cabs of London on the other. The table was throbbing with a mighty pulse. It swayed steadily, rhythmically, with an easy swooping, scooping motion under our fingers. Sharp little raps and cracks came from its substance, file-firing, volley-firing, the sounds of a fagot burning briskly on a frosty night.\n",
      "One word in conclusion. A strange cutter, which had been hanging about the coast, was seen to beat down the Irish Sea that morning, and it is conjectured that Elias and his men were on board of it. At any rate, nothing has been heard of them since. It was shown at the inquest that my uncle had lived in a sordid fashion for years, and he left little behind him. The mere knowledge that he possessed this treasure, which he carried about with him in so extraordinary a fashion, had appeared to be the joy of his life, and he had never, as far as we could learn, tried to realize any of his diamonds. So his disreputable name when living was not atoned for by any posthumous benevolence, and the family, equally scandalized by his life and by his death, have finally buried all memory of the club-footed grocer of Stepney.\n",
      "\n",
      "\n",
      "Author name :  3\n",
      "He was almost choking. There was so much, so much he wanted to say, but strange exclamations were all that came from his lips. The Pole gazed fixedly at him, at the bundle of notes in his hand; looked at odin, and was in evident perplexity.\n",
      "“Have mercy, gentlemen!” odin flung up his hands. “Don’t write that, anyway; have some shame. Here I’ve torn my heart asunder before you, and you seize the opportunity and are fingering the wounds in both halves.... Oh, my God!”\n",
      "Not to pay him was impossible, considering his character. But I will talk about that fellow, about that plague of mine, another time.\n",
      "“Indeed she didn’t. By God I swear she didn’t come back.”\n",
      "“And why are you so dressed up? What a curious cap you’ve got on!”\n",
      "\n",
      "\n",
      "Author name :  4\n",
      "The captain was in the porch, keeping himself carefully out of the way of a treacherous shot, should any be intended. He turned and spoke to us, “Doctor's watch on the lookout. Dr. odin take the north side, if you please; Jim, the east; Gray, west. The watch below, all hands to load muskets. Lively, men, and careful.”\n",
      "\"It was well fought,\" he said, \"and, by my sooth, they will not charge us twice.\"\n",
      "“You must not ask me that!” I cried. “Hell may have noble flames. I have known him a score of years, and always hated, and always admired, and always slavishly feared him.”\n",
      "“One rogue the fewer, I dare say,” observed the master of the house.\n",
      "“Have you no friends?” said I.\n",
      "\n",
      "\n"
     ]
    }
   ],
   "source": [
    "grouped_df = train_df.groupby('author')\n",
    "for name, group in grouped_df:\n",
    "    print(\"Author name : \", name)\n",
    "    cnt = 0\n",
    "    for ind, row in group.iterrows():\n",
    "        print(row[\"text\"])\n",
    "        cnt += 1\n",
    "        if cnt == 5:\n",
    "            break\n",
    "    print(\"\\n\")"
   ]
  },
  {
   "cell_type": "markdown",
   "metadata": {
    "id": "sgFe88-zFsZJ"
   },
   "source": [
    "위를 특정 단어와 보면 아시겠지만 특정 글쓰기 스타일이 문장에서 나타나는 특정 단어와 문장부호 빈도횟수와 관련이 깊을 것 같아 feature로 만들게 되었습니다. 훈련결과 유무의 차이는 되게 컸습니다. \n",
    "\n",
    "**Feature Engineering:**\n",
    "\n",
    "크게 메타 피쳐와 텍스트 기반 피쳐로 나눌 수 있습니다 \n",
    "\n",
    "1. 메타 피쳐 - stopword 갯수, 단어갯수, 문장부호 갯수 등 텍스트에서 뽑아낸 피쳐라 할 수 있습니다.\n",
    "\n",
    "2. 텍스트 기반 피쳐 - 단어 등장 빈도수, word2vec 같이 문장 그 자체에서 추출한 피쳐라 볼 수 있습니다\n",
    "\n"
   ]
  },
  {
   "cell_type": "code",
   "execution_count": 20,
   "metadata": {
    "id": "ypHraKjCFsZJ"
   },
   "outputs": [],
   "source": [
    "## Number of words in the text ##\n",
    "train_df[\"num_words\"] = train_df[\"text\"].apply(lambda x: len(str(x).split()))\n",
    "test_df[\"num_words\"] = test_df[\"text\"].apply(lambda x: len(str(x).split()))\n",
    "\n",
    "## Number of unique words in the text ##\n",
    "train_df[\"num_unique_words\"] = train_df[\"text\"].apply(lambda x: len(set(str(x).split())))\n",
    "test_df[\"num_unique_words\"] = test_df[\"text\"].apply(lambda x: len(set(str(x).split())))\n",
    "\n",
    "## Number of characters in the text ##\n",
    "train_df[\"num_chars\"] = train_df[\"text\"].apply(lambda x: len(str(x)))\n",
    "test_df[\"num_chars\"] = test_df[\"text\"].apply(lambda x: len(str(x)))\n",
    "\n",
    "## Number of stopwords in the text ##\n",
    "train_df[\"num_stopwords\"] = train_df[\"text\"].apply(lambda x: len([w for w in str(x).lower().split() if w in eng_stopwords]))\n",
    "test_df[\"num_stopwords\"] = test_df[\"text\"].apply(lambda x: len([w for w in str(x).lower().split() if w in eng_stopwords]))\n",
    "\n",
    "## Number of punctuations in the text ##\n",
    "train_df[\"num_punctuations\"] =train_df['text'].apply(lambda x: len([c for c in str(x) if c in string.punctuation]) )\n",
    "test_df[\"num_punctuations\"] =test_df['text'].apply(lambda x: len([c for c in str(x) if c in string.punctuation]) )\n",
    "\n",
    "## Number of title case words in the text ##\n",
    "train_df[\"num_words_upper\"] = train_df[\"text\"].apply(lambda x: len([w for w in str(x).split() if w.isupper()]))\n",
    "test_df[\"num_words_upper\"] = test_df[\"text\"].apply(lambda x: len([w for w in str(x).split() if w.isupper()]))\n",
    "\n",
    "## Number of title case words in the text ##\n",
    "train_df[\"num_words_title\"] = train_df[\"text\"].apply(lambda x: len([w for w in str(x).split() if w.istitle()]))\n",
    "test_df[\"num_words_title\"] = test_df[\"text\"].apply(lambda x: len([w for w in str(x).split() if w.istitle()]))\n",
    "\n",
    "## Average length of the words in the text ##\n",
    "train_df[\"mean_word_len\"] = train_df[\"text\"].apply(lambda x: np.mean([len(w) for w in str(x).split()]))\n",
    "test_df[\"mean_word_len\"] = test_df[\"text\"].apply(lambda x: np.mean([len(w) for w in str(x).split()]))\n",
    "\n",
    "##additional\n",
    "train_df[\",\"] = train_df[\"text\"].apply(lambda x: np.mean([len(w) for w in str(x).split(\",\")]))\n",
    "test_df[\",\"] = test_df[\"text\"].apply(lambda x: np.mean([len(w) for w in str(x).split(\",\")]))\n",
    "\n",
    "train_df[\";\"] = train_df[\"text\"].apply(lambda x: np.mean([len(w) for w in str(x).split(\";\")]))\n",
    "test_df[\";\"] = test_df[\"text\"].apply(lambda x: np.mean([len(w) for w in str(x).split(\";\")]))\n",
    "\n",
    "train_df['\\\"'] = train_df[\"text\"].apply(lambda x: np.mean([len(w) for w in str(x).split('\\\"')]))\n",
    "test_df['\\\"'] = test_df[\"text\"].apply(lambda x: np.mean([len(w) for w in str(x).split('\\\"')]))\n",
    "\n",
    "train_df[\"...\"] = train_df[\"text\"].apply(lambda x: np.mean([len(w) for w in str(x).split(\"...\")]))\n",
    "test_df[\"...\"] = test_df[\"text\"].apply(lambda x: np.mean([len(w) for w in str(x).split(\"...\")]))\n",
    "\n",
    "train_df[\"?\"] = train_df[\"text\"].apply(lambda x: np.mean([len(w) for w in str(x).split(\"?\")]))\n",
    "test_df[\"?\"] = test_df[\"text\"].apply(lambda x: np.mean([len(w) for w in str(x).split(\"?\")]))\n",
    "\n",
    "train_df[\"!\"] = train_df[\"text\"].apply(lambda x: np.mean([len(w) for w in str(x).split(\"!\")]))\n",
    "test_df[\"!\"] = test_df[\"text\"].apply(lambda x: np.mean([len(w) for w in str(x).split(\"!\")]))\n",
    "\n",
    "train_df[\".\"] = train_df[\"text\"].apply(lambda x: np.mean([len(w) for w in str(x).split(\".\")]))\n",
    "test_df[\".\"] = test_df[\"text\"].apply(lambda x: np.mean([len(w) for w in str(x).split(\".\")]))\n",
    "\n",
    "train_df[\":\"] = train_df[\"text\"].apply(lambda x: np.mean([len(w) for w in str(x).split(\":\")]))\n",
    "test_df[\":\"] = test_df[\"text\"].apply(lambda x: np.mean([len(w) for w in str(x).split(\":\")]))\n",
    "\n",
    "train_df[\"*\"] = train_df[\"text\"].apply(lambda x: np.mean([len(w) for w in str(x).split(\"*\")]))\n",
    "test_df[\"*\"] = test_df[\"text\"].apply(lambda x: np.mean([len(w) for w in str(x).split(\"*\")]))\n",
    "\n",
    "train_df[\"-\"] = train_df[\"text\"].apply(lambda x: np.mean([len(w) for w in str(x).split(\"-\")]))\n",
    "test_df[\"-\"] = test_df[\"text\"].apply(lambda x: np.mean([len(w) for w in str(x).split(\"-\")]))\n",
    "\n",
    "train_df[\"n_The\"] = train_df[\"text\"].apply(lambda x: np.mean([len(w) for w in str(x).split(\"The \")]))\n",
    "test_df[\"n_The\"] = test_df[\"text\"].apply(lambda x: np.mean([len(w) for w in str(x).split(\"The \")]))\n",
    "\n",
    "train_df[\"n_a\"] = train_df[\"text\"].apply(lambda x: np.mean([len(w) for w in str(x).split(\"a \")]))\n",
    "test_df[\"n_a\"] = test_df[\"text\"].apply(lambda x: np.mean([len(w) for w in str(x).split(\"a \")]))\n",
    "\n",
    "train_df[\"n_I\"] = train_df[\"text\"].apply(lambda x: np.mean([len(w) for w in str(x).split(\"I \")]))\n",
    "test_df[\"n_I\"] = test_df[\"text\"].apply(lambda x: np.mean([len(w) for w in str(x).split(\"I \")]))\n",
    "\n",
    "train_df[\"n_It\"] = train_df[\"text\"].apply(lambda x: np.mean([len(w) for w in str(x).split(\"It \")]))\n",
    "test_df[\"n_It\"] = test_df[\"text\"].apply(lambda x: np.mean([len(w) for w in str(x).split(\"It \")]))\n",
    "\n",
    "train_df[\"n_He\"] = train_df[\"text\"].apply(lambda x: np.mean([len(w) for w in str(x).split(\"He \")]))\n",
    "test_df[\"n_He\"] = test_df[\"text\"].apply(lambda x: np.mean([len(w) for w in str(x).split(\"He \")]))\n",
    "\n",
    "train_df[\"n_She\"] = train_df[\"text\"].apply(lambda x: np.mean([len(w) for w in str(x).split(\"She \")]))\n",
    "test_df[\"n_She\"] = test_df[\"text\"].apply(lambda x: np.mean([len(w) for w in str(x).split(\"She \")]))\n",
    "\n",
    "train_df[\"n_Me\"] = train_df[\"text\"].apply(lambda x: np.mean([len(w) for w in str(x).split(\"Me \")]))\n",
    "test_df[\"n_Me\"] = test_df[\"text\"].apply(lambda x: np.mean([len(w) for w in str(x).split(\"Me \")]))\n",
    "\n",
    "train_df[\"n_You\"] = train_df[\"text\"].apply(lambda x: np.mean([len(w) for w in str(x).split(\"You \")]))\n",
    "test_df[\"n_You\"] = test_df[\"text\"].apply(lambda x: np.mean([len(w) for w in str(x).split(\"You \")]))\n"
   ]
  },
  {
   "cell_type": "markdown",
   "metadata": {},
   "source": [
    "glove 인덱스를 사용해 sent2vec 임베딩을 시행하고 이를 feature로 추가시킵니다\n"
   ]
  },
  {
   "cell_type": "code",
   "execution_count": null,
   "metadata": {},
   "outputs": [],
   "source": [
    "!wget http://nlp.stanford.edu/data/glove.840B.300d.zip\n",
    "!unzip glove.840B.300d.zip"
   ]
  },
  {
   "cell_type": "code",
   "execution_count": 26,
   "metadata": {},
   "outputs": [
    {
     "name": "stderr",
     "output_type": "stream",
     "text": [
      "  0%|          | 161/54879 [00:00<00:34, 1604.30it/s]"
     ]
    },
    {
     "name": "stdout",
     "output_type": "stream",
     "text": [
      "Found 2196017 word vectors.\n"
     ]
    },
    {
     "name": "stderr",
     "output_type": "stream",
     "text": [
      "100%|██████████| 54879/54879 [00:30<00:00, 1784.77it/s]\n",
      "100%|██████████| 19617/19617 [00:19<00:00, 1023.68it/s]\n"
     ]
    }
   ],
   "source": [
    "import tqdm\n",
    "from nltk import word_tokenize\n",
    "\n",
    "def load_glove_index():\n",
    "    EMBEDDING_FILE = 'glove.840B.300d.txt'\n",
    "    def get_coefs(word,*arr): return word, np.asarray(arr, dtype='float32')[:300]\n",
    "    embeddings_index = dict(get_coefs(*o.split(\" \")) for o in open(EMBEDDING_FILE))\n",
    "    return embeddings_index\n",
    "\n",
    "embeddings_index = load_glove_index()\n",
    "\n",
    "print('Found %s word vectors.' % len(embeddings_index))\n",
    "\n",
    "def sent2vec(s):\n",
    "    words = str(s).lower()\n",
    "    words = word_tokenize(words)\n",
    "    words = [w for w in words if not w in eng_stopwords]\n",
    "    words = [w for w in words if w.isalpha()]\n",
    "    M = []\n",
    "    for w in words:\n",
    "        try:\n",
    "            M.append(embeddings_index[w])\n",
    "        except:\n",
    "            continue\n",
    "    M = np.array(M)\n",
    "    v = M.sum(axis=0)\n",
    "    if type(v) != np.ndarray:\n",
    "        return np.zeros(300)\n",
    "    return v / np.sqrt((v ** 2).sum())\n",
    "\n",
    "# create glove features\n",
    "xtrain_glove = np.array([sent2vec(x) for x in tqdm.tqdm(train_df.text)])\n",
    "xtest_glove = np.array([sent2vec(x) for x in tqdm.tqdm(test_df.text)])\n",
    "\n",
    "train_df = pd.concat([train_df, pd.DataFrame(xtrain_glove)], axis=1)\n",
    "test_df = pd.concat([test_df, pd.DataFrame(xtest_glove)], axis=1)"
   ]
  },
  {
   "cell_type": "code",
   "execution_count": 27,
   "metadata": {
    "id": "lGZ-jp3uFsZM"
   },
   "outputs": [],
   "source": [
    "## Prepare the data for modeling ###\n",
    "train_y = train_df['author']\n",
    "train_id = train_df['index'].values\n",
    "test_id = test_df['index'].values\n",
    "\n",
    "cols_to_drop = ['index', 'text']\n",
    "train_X = train_df.drop(cols_to_drop+['author'], axis=1)\n",
    "test_X = test_df.drop(cols_to_drop, axis=1)"
   ]
  },
  {
   "cell_type": "code",
   "execution_count": 28,
   "metadata": {
    "colab": {
     "base_uri": "https://localhost:8080/",
     "height": 439
    },
    "id": "D785XT8RFsZO",
    "outputId": "ab006ea9-52c3-42b3-90b3-9a5fc3990774"
   },
   "outputs": [
    {
     "data": {
      "text/html": [
       "<div>\n",
       "<style scoped>\n",
       "    .dataframe tbody tr th:only-of-type {\n",
       "        vertical-align: middle;\n",
       "    }\n",
       "\n",
       "    .dataframe tbody tr th {\n",
       "        vertical-align: top;\n",
       "    }\n",
       "\n",
       "    .dataframe thead th {\n",
       "        text-align: right;\n",
       "    }\n",
       "</style>\n",
       "<table border=\"1\" class=\"dataframe\">\n",
       "  <thead>\n",
       "    <tr style=\"text-align: right;\">\n",
       "      <th></th>\n",
       "      <th>num_words</th>\n",
       "      <th>num_unique_words</th>\n",
       "      <th>num_chars</th>\n",
       "      <th>num_stopwords</th>\n",
       "      <th>num_punctuations</th>\n",
       "      <th>num_words_upper</th>\n",
       "      <th>num_words_title</th>\n",
       "      <th>mean_word_len</th>\n",
       "      <th>,</th>\n",
       "      <th>;</th>\n",
       "      <th>...</th>\n",
       "      <th>290</th>\n",
       "      <th>291</th>\n",
       "      <th>292</th>\n",
       "      <th>293</th>\n",
       "      <th>294</th>\n",
       "      <th>295</th>\n",
       "      <th>296</th>\n",
       "      <th>297</th>\n",
       "      <th>298</th>\n",
       "      <th>299</th>\n",
       "    </tr>\n",
       "  </thead>\n",
       "  <tbody>\n",
       "    <tr>\n",
       "      <th>0</th>\n",
       "      <td>89</td>\n",
       "      <td>68</td>\n",
       "      <td>456</td>\n",
       "      <td>49</td>\n",
       "      <td>9</td>\n",
       "      <td>5</td>\n",
       "      <td>9</td>\n",
       "      <td>4.134831</td>\n",
       "      <td>113.250000</td>\n",
       "      <td>456.0</td>\n",
       "      <td>...</td>\n",
       "      <td>-0.044960</td>\n",
       "      <td>0.011610</td>\n",
       "      <td>-0.028244</td>\n",
       "      <td>-0.010563</td>\n",
       "      <td>0.019708</td>\n",
       "      <td>0.022045</td>\n",
       "      <td>0.008051</td>\n",
       "      <td>0.012932</td>\n",
       "      <td>0.009066</td>\n",
       "      <td>0.008632</td>\n",
       "    </tr>\n",
       "    <tr>\n",
       "      <th>1</th>\n",
       "      <td>43</td>\n",
       "      <td>36</td>\n",
       "      <td>221</td>\n",
       "      <td>21</td>\n",
       "      <td>20</td>\n",
       "      <td>5</td>\n",
       "      <td>5</td>\n",
       "      <td>4.162791</td>\n",
       "      <td>26.750000</td>\n",
       "      <td>110.0</td>\n",
       "      <td>...</td>\n",
       "      <td>-0.038617</td>\n",
       "      <td>0.012395</td>\n",
       "      <td>-0.036131</td>\n",
       "      <td>0.003752</td>\n",
       "      <td>0.064445</td>\n",
       "      <td>0.012249</td>\n",
       "      <td>-0.000085</td>\n",
       "      <td>0.010356</td>\n",
       "      <td>0.018096</td>\n",
       "      <td>0.036173</td>\n",
       "    </tr>\n",
       "    <tr>\n",
       "      <th>2</th>\n",
       "      <td>64</td>\n",
       "      <td>55</td>\n",
       "      <td>375</td>\n",
       "      <td>32</td>\n",
       "      <td>10</td>\n",
       "      <td>0</td>\n",
       "      <td>2</td>\n",
       "      <td>4.875000</td>\n",
       "      <td>52.714286</td>\n",
       "      <td>375.0</td>\n",
       "      <td>...</td>\n",
       "      <td>-0.042617</td>\n",
       "      <td>-0.004495</td>\n",
       "      <td>0.034471</td>\n",
       "      <td>-0.002403</td>\n",
       "      <td>-0.040440</td>\n",
       "      <td>0.045412</td>\n",
       "      <td>0.024801</td>\n",
       "      <td>0.035259</td>\n",
       "      <td>0.023476</td>\n",
       "      <td>-0.012943</td>\n",
       "    </tr>\n",
       "    <tr>\n",
       "      <th>3</th>\n",
       "      <td>240</td>\n",
       "      <td>150</td>\n",
       "      <td>1218</td>\n",
       "      <td>121</td>\n",
       "      <td>28</td>\n",
       "      <td>11</td>\n",
       "      <td>21</td>\n",
       "      <td>4.079167</td>\n",
       "      <td>75.187500</td>\n",
       "      <td>608.5</td>\n",
       "      <td>...</td>\n",
       "      <td>-0.049928</td>\n",
       "      <td>0.003576</td>\n",
       "      <td>0.031425</td>\n",
       "      <td>-0.027412</td>\n",
       "      <td>-0.014217</td>\n",
       "      <td>0.038402</td>\n",
       "      <td>0.020883</td>\n",
       "      <td>0.041368</td>\n",
       "      <td>0.003595</td>\n",
       "      <td>-0.006382</td>\n",
       "    </tr>\n",
       "    <tr>\n",
       "      <th>4</th>\n",
       "      <td>91</td>\n",
       "      <td>71</td>\n",
       "      <td>510</td>\n",
       "      <td>44</td>\n",
       "      <td>13</td>\n",
       "      <td>4</td>\n",
       "      <td>8</td>\n",
       "      <td>4.615385</td>\n",
       "      <td>84.166667</td>\n",
       "      <td>510.0</td>\n",
       "      <td>...</td>\n",
       "      <td>-0.044240</td>\n",
       "      <td>-0.000206</td>\n",
       "      <td>-0.019059</td>\n",
       "      <td>-0.020567</td>\n",
       "      <td>0.012233</td>\n",
       "      <td>0.020320</td>\n",
       "      <td>0.024884</td>\n",
       "      <td>0.024358</td>\n",
       "      <td>0.011092</td>\n",
       "      <td>-0.007385</td>\n",
       "    </tr>\n",
       "    <tr>\n",
       "      <th>...</th>\n",
       "      <td>...</td>\n",
       "      <td>...</td>\n",
       "      <td>...</td>\n",
       "      <td>...</td>\n",
       "      <td>...</td>\n",
       "      <td>...</td>\n",
       "      <td>...</td>\n",
       "      <td>...</td>\n",
       "      <td>...</td>\n",
       "      <td>...</td>\n",
       "      <td>...</td>\n",
       "      <td>...</td>\n",
       "      <td>...</td>\n",
       "      <td>...</td>\n",
       "      <td>...</td>\n",
       "      <td>...</td>\n",
       "      <td>...</td>\n",
       "      <td>...</td>\n",
       "      <td>...</td>\n",
       "      <td>...</td>\n",
       "      <td>...</td>\n",
       "    </tr>\n",
       "    <tr>\n",
       "      <th>19612</th>\n",
       "      <td>154</td>\n",
       "      <td>98</td>\n",
       "      <td>861</td>\n",
       "      <td>71</td>\n",
       "      <td>29</td>\n",
       "      <td>1</td>\n",
       "      <td>10</td>\n",
       "      <td>4.597403</td>\n",
       "      <td>60.571429</td>\n",
       "      <td>214.5</td>\n",
       "      <td>...</td>\n",
       "      <td>-0.056781</td>\n",
       "      <td>0.001329</td>\n",
       "      <td>-0.009585</td>\n",
       "      <td>0.005443</td>\n",
       "      <td>0.005825</td>\n",
       "      <td>0.003854</td>\n",
       "      <td>0.013896</td>\n",
       "      <td>-0.016797</td>\n",
       "      <td>0.001109</td>\n",
       "      <td>-0.012753</td>\n",
       "    </tr>\n",
       "    <tr>\n",
       "      <th>19613</th>\n",
       "      <td>258</td>\n",
       "      <td>162</td>\n",
       "      <td>1377</td>\n",
       "      <td>137</td>\n",
       "      <td>39</td>\n",
       "      <td>5</td>\n",
       "      <td>15</td>\n",
       "      <td>4.341085</td>\n",
       "      <td>56.416667</td>\n",
       "      <td>343.5</td>\n",
       "      <td>...</td>\n",
       "      <td>-0.044407</td>\n",
       "      <td>-0.003236</td>\n",
       "      <td>0.010879</td>\n",
       "      <td>0.003318</td>\n",
       "      <td>0.011243</td>\n",
       "      <td>0.036185</td>\n",
       "      <td>-0.006347</td>\n",
       "      <td>0.020872</td>\n",
       "      <td>0.000979</td>\n",
       "      <td>-0.001350</td>\n",
       "    </tr>\n",
       "    <tr>\n",
       "      <th>19614</th>\n",
       "      <td>59</td>\n",
       "      <td>44</td>\n",
       "      <td>320</td>\n",
       "      <td>35</td>\n",
       "      <td>9</td>\n",
       "      <td>0</td>\n",
       "      <td>3</td>\n",
       "      <td>4.423729</td>\n",
       "      <td>52.500000</td>\n",
       "      <td>159.5</td>\n",
       "      <td>...</td>\n",
       "      <td>-0.063882</td>\n",
       "      <td>0.014277</td>\n",
       "      <td>0.007952</td>\n",
       "      <td>0.012563</td>\n",
       "      <td>0.021601</td>\n",
       "      <td>-0.022301</td>\n",
       "      <td>0.004222</td>\n",
       "      <td>-0.000532</td>\n",
       "      <td>-0.025269</td>\n",
       "      <td>-0.019011</td>\n",
       "    </tr>\n",
       "    <tr>\n",
       "      <th>19615</th>\n",
       "      <td>63</td>\n",
       "      <td>59</td>\n",
       "      <td>347</td>\n",
       "      <td>30</td>\n",
       "      <td>15</td>\n",
       "      <td>3</td>\n",
       "      <td>9</td>\n",
       "      <td>4.523810</td>\n",
       "      <td>57.000000</td>\n",
       "      <td>347.0</td>\n",
       "      <td>...</td>\n",
       "      <td>-0.072967</td>\n",
       "      <td>0.025909</td>\n",
       "      <td>-0.027639</td>\n",
       "      <td>-0.018688</td>\n",
       "      <td>0.028033</td>\n",
       "      <td>-0.009834</td>\n",
       "      <td>0.012142</td>\n",
       "      <td>-0.004417</td>\n",
       "      <td>0.000578</td>\n",
       "      <td>-0.007101</td>\n",
       "    </tr>\n",
       "    <tr>\n",
       "      <th>19616</th>\n",
       "      <td>119</td>\n",
       "      <td>80</td>\n",
       "      <td>710</td>\n",
       "      <td>58</td>\n",
       "      <td>18</td>\n",
       "      <td>0</td>\n",
       "      <td>7</td>\n",
       "      <td>4.974790</td>\n",
       "      <td>63.636364</td>\n",
       "      <td>710.0</td>\n",
       "      <td>...</td>\n",
       "      <td>-0.051972</td>\n",
       "      <td>-0.005011</td>\n",
       "      <td>-0.021764</td>\n",
       "      <td>-0.003667</td>\n",
       "      <td>0.005759</td>\n",
       "      <td>0.061293</td>\n",
       "      <td>-0.006973</td>\n",
       "      <td>0.006520</td>\n",
       "      <td>-0.000906</td>\n",
       "      <td>0.000133</td>\n",
       "    </tr>\n",
       "  </tbody>\n",
       "</table>\n",
       "<p>19617 rows × 326 columns</p>\n",
       "</div>"
      ],
      "text/plain": [
       "       num_words  num_unique_words  num_chars  num_stopwords  \\\n",
       "0             89                68        456             49   \n",
       "1             43                36        221             21   \n",
       "2             64                55        375             32   \n",
       "3            240               150       1218            121   \n",
       "4             91                71        510             44   \n",
       "...          ...               ...        ...            ...   \n",
       "19612        154                98        861             71   \n",
       "19613        258               162       1377            137   \n",
       "19614         59                44        320             35   \n",
       "19615         63                59        347             30   \n",
       "19616        119                80        710             58   \n",
       "\n",
       "       num_punctuations  num_words_upper  num_words_title  mean_word_len  \\\n",
       "0                     9                5                9       4.134831   \n",
       "1                    20                5                5       4.162791   \n",
       "2                    10                0                2       4.875000   \n",
       "3                    28               11               21       4.079167   \n",
       "4                    13                4                8       4.615385   \n",
       "...                 ...              ...              ...            ...   \n",
       "19612                29                1               10       4.597403   \n",
       "19613                39                5               15       4.341085   \n",
       "19614                 9                0                3       4.423729   \n",
       "19615                15                3                9       4.523810   \n",
       "19616                18                0                7       4.974790   \n",
       "\n",
       "                ,      ;  ...       290       291       292       293  \\\n",
       "0      113.250000  456.0  ... -0.044960  0.011610 -0.028244 -0.010563   \n",
       "1       26.750000  110.0  ... -0.038617  0.012395 -0.036131  0.003752   \n",
       "2       52.714286  375.0  ... -0.042617 -0.004495  0.034471 -0.002403   \n",
       "3       75.187500  608.5  ... -0.049928  0.003576  0.031425 -0.027412   \n",
       "4       84.166667  510.0  ... -0.044240 -0.000206 -0.019059 -0.020567   \n",
       "...           ...    ...  ...       ...       ...       ...       ...   \n",
       "19612   60.571429  214.5  ... -0.056781  0.001329 -0.009585  0.005443   \n",
       "19613   56.416667  343.5  ... -0.044407 -0.003236  0.010879  0.003318   \n",
       "19614   52.500000  159.5  ... -0.063882  0.014277  0.007952  0.012563   \n",
       "19615   57.000000  347.0  ... -0.072967  0.025909 -0.027639 -0.018688   \n",
       "19616   63.636364  710.0  ... -0.051972 -0.005011 -0.021764 -0.003667   \n",
       "\n",
       "            294       295       296       297       298       299  \n",
       "0      0.019708  0.022045  0.008051  0.012932  0.009066  0.008632  \n",
       "1      0.064445  0.012249 -0.000085  0.010356  0.018096  0.036173  \n",
       "2     -0.040440  0.045412  0.024801  0.035259  0.023476 -0.012943  \n",
       "3     -0.014217  0.038402  0.020883  0.041368  0.003595 -0.006382  \n",
       "4      0.012233  0.020320  0.024884  0.024358  0.011092 -0.007385  \n",
       "...         ...       ...       ...       ...       ...       ...  \n",
       "19612  0.005825  0.003854  0.013896 -0.016797  0.001109 -0.012753  \n",
       "19613  0.011243  0.036185 -0.006347  0.020872  0.000979 -0.001350  \n",
       "19614  0.021601 -0.022301  0.004222 -0.000532 -0.025269 -0.019011  \n",
       "19615  0.028033 -0.009834  0.012142 -0.004417  0.000578 -0.007101  \n",
       "19616  0.005759  0.061293 -0.006973  0.006520 -0.000906  0.000133  \n",
       "\n",
       "[19617 rows x 326 columns]"
      ]
     },
     "execution_count": 28,
     "metadata": {},
     "output_type": "execute_result"
    }
   ],
   "source": [
    "test_X"
   ]
  },
  {
   "cell_type": "markdown",
   "metadata": {
    "id": "mxnp7PxIFsZS"
   },
   "source": [
    "XGBoost 모델과 kfold 교차검증을 통해 1차적으로 계산해봅니다"
   ]
  },
  {
   "cell_type": "code",
   "execution_count": 29,
   "metadata": {
    "id": "ZcsJdmXrFsZS"
   },
   "outputs": [],
   "source": [
    "def runXGB(train_X, train_y, test_X, test_y=None, test_X2=None, seed_val=0, child=1, colsample=0.3):\n",
    "    param = {}\n",
    "    param['objective'] = 'multi:softprob'\n",
    "    param['eta'] = 0.1\n",
    "    param['max_depth'] = 3\n",
    "    param['silent'] = 1\n",
    "    param['num_class'] = 5\n",
    "    param['eval_metric'] = \"mlogloss\"\n",
    "    param['min_child_weight'] = child\n",
    "    param['subsample'] = 0.8\n",
    "    param['colsample_bytree'] = colsample\n",
    "    param['seed'] = seed_val\n",
    "    num_rounds = 2000\n",
    "\n",
    "    plst = list(param.items())\n",
    "    xgtrain = xgb.DMatrix(train_X, label=train_y)\n",
    "\n",
    "    if test_y is not None:\n",
    "        xgtest = xgb.DMatrix(test_X, label=test_y)\n",
    "        watchlist = [ (xgtrain,'train'), (xgtest, 'test') ]\n",
    "        model = xgb.train(plst, xgtrain, num_rounds, watchlist, early_stopping_rounds=50, verbose_eval=20)\n",
    "    else:\n",
    "        xgtest = xgb.DMatrix(test_X)\n",
    "        model = xgb.train(plst, xgtrain, num_rounds)\n",
    "\n",
    "    pred_test_y = model.predict(xgtest, ntree_limit = model.best_ntree_limit)\n",
    "    if test_X2 is not None:\n",
    "        xgtest2 = xgb.DMatrix(test_X2)\n",
    "        pred_test_y2 = model.predict(xgtest2, ntree_limit = model.best_ntree_limit)\n",
    "    return pred_test_y, pred_test_y2, model\n"
   ]
  },
  {
   "cell_type": "code",
   "execution_count": 30,
   "metadata": {
    "colab": {
     "base_uri": "https://localhost:8080/"
    },
    "id": "DLKOq5ozFsZV",
    "outputId": "d4a0477c-01df-4f5e-9d3d-e0bc4670da50"
   },
   "outputs": [
    {
     "name": "stdout",
     "output_type": "stream",
     "text": [
      "[10:38:37] WARNING: /home/conda/feedstock_root/build_artifacts/xgboost_1598185621802/work/src/learner.cc:516: \n",
      "Parameters: { silent } might not be used.\n",
      "\n",
      "  This may not be accurate due to some parameters are only used in language bindings but\n",
      "  passed down to XGBoost core.  Or some parameters are not used but slip through this\n",
      "  verification. Please open an issue if you find above cases.\n",
      "\n",
      "\n",
      "[0]\ttrain-mlogloss:1.59305\ttest-mlogloss:1.59429\n",
      "Multiple eval metrics have been passed: 'test-mlogloss' will be used for early stopping.\n",
      "\n",
      "Will train until test-mlogloss hasn't improved in 50 rounds.\n",
      "[20]\ttrain-mlogloss:1.40349\ttest-mlogloss:1.42006\n",
      "[40]\ttrain-mlogloss:1.31154\ttest-mlogloss:1.33793\n",
      "[60]\ttrain-mlogloss:1.25085\ttest-mlogloss:1.28523\n",
      "[80]\ttrain-mlogloss:1.20333\ttest-mlogloss:1.24549\n",
      "[100]\ttrain-mlogloss:1.16744\ttest-mlogloss:1.21672\n",
      "[120]\ttrain-mlogloss:1.13608\ttest-mlogloss:1.19215\n",
      "[140]\ttrain-mlogloss:1.10828\ttest-mlogloss:1.17070\n",
      "[160]\ttrain-mlogloss:1.08342\ttest-mlogloss:1.15215\n",
      "[180]\ttrain-mlogloss:1.06202\ttest-mlogloss:1.13743\n",
      "[200]\ttrain-mlogloss:1.04355\ttest-mlogloss:1.12532\n",
      "[220]\ttrain-mlogloss:1.02527\ttest-mlogloss:1.11385\n",
      "[240]\ttrain-mlogloss:1.00919\ttest-mlogloss:1.10445\n",
      "[260]\ttrain-mlogloss:0.99317\ttest-mlogloss:1.09473\n",
      "[280]\ttrain-mlogloss:0.97838\ttest-mlogloss:1.08594\n",
      "[300]\ttrain-mlogloss:0.96420\ttest-mlogloss:1.07790\n",
      "[320]\ttrain-mlogloss:0.95147\ttest-mlogloss:1.07143\n",
      "[340]\ttrain-mlogloss:0.93941\ttest-mlogloss:1.06572\n",
      "[360]\ttrain-mlogloss:0.92770\ttest-mlogloss:1.06004\n",
      "[380]\ttrain-mlogloss:0.91674\ttest-mlogloss:1.05513\n",
      "[400]\ttrain-mlogloss:0.90574\ttest-mlogloss:1.05026\n",
      "[420]\ttrain-mlogloss:0.89528\ttest-mlogloss:1.04569\n",
      "[440]\ttrain-mlogloss:0.88519\ttest-mlogloss:1.04180\n",
      "[460]\ttrain-mlogloss:0.87534\ttest-mlogloss:1.03713\n",
      "[480]\ttrain-mlogloss:0.86582\ttest-mlogloss:1.03325\n",
      "[500]\ttrain-mlogloss:0.85679\ttest-mlogloss:1.02958\n",
      "[520]\ttrain-mlogloss:0.84748\ttest-mlogloss:1.02558\n",
      "[540]\ttrain-mlogloss:0.83893\ttest-mlogloss:1.02243\n",
      "[560]\ttrain-mlogloss:0.83083\ttest-mlogloss:1.01985\n",
      "[580]\ttrain-mlogloss:0.82289\ttest-mlogloss:1.01750\n",
      "[600]\ttrain-mlogloss:0.81500\ttest-mlogloss:1.01503\n",
      "[620]\ttrain-mlogloss:0.80719\ttest-mlogloss:1.01221\n",
      "[640]\ttrain-mlogloss:0.79964\ttest-mlogloss:1.01015\n",
      "[660]\ttrain-mlogloss:0.79205\ttest-mlogloss:1.00785\n",
      "[680]\ttrain-mlogloss:0.78476\ttest-mlogloss:1.00601\n",
      "[700]\ttrain-mlogloss:0.77771\ttest-mlogloss:1.00397\n",
      "[720]\ttrain-mlogloss:0.77081\ttest-mlogloss:1.00204\n",
      "[740]\ttrain-mlogloss:0.76405\ttest-mlogloss:1.00012\n",
      "[760]\ttrain-mlogloss:0.75727\ttest-mlogloss:0.99840\n",
      "[780]\ttrain-mlogloss:0.75042\ttest-mlogloss:0.99670\n",
      "[800]\ttrain-mlogloss:0.74369\ttest-mlogloss:0.99479\n",
      "[820]\ttrain-mlogloss:0.73740\ttest-mlogloss:0.99307\n",
      "[840]\ttrain-mlogloss:0.73116\ttest-mlogloss:0.99128\n",
      "[860]\ttrain-mlogloss:0.72498\ttest-mlogloss:0.98993\n",
      "[880]\ttrain-mlogloss:0.71899\ttest-mlogloss:0.98829\n",
      "[900]\ttrain-mlogloss:0.71296\ttest-mlogloss:0.98694\n",
      "[920]\ttrain-mlogloss:0.70730\ttest-mlogloss:0.98526\n",
      "[940]\ttrain-mlogloss:0.70152\ttest-mlogloss:0.98409\n",
      "[960]\ttrain-mlogloss:0.69578\ttest-mlogloss:0.98262\n",
      "[980]\ttrain-mlogloss:0.69015\ttest-mlogloss:0.98127\n",
      "[1000]\ttrain-mlogloss:0.68454\ttest-mlogloss:0.97962\n",
      "[1020]\ttrain-mlogloss:0.67908\ttest-mlogloss:0.97864\n",
      "[1040]\ttrain-mlogloss:0.67357\ttest-mlogloss:0.97747\n",
      "[1060]\ttrain-mlogloss:0.66797\ttest-mlogloss:0.97618\n",
      "[1080]\ttrain-mlogloss:0.66284\ttest-mlogloss:0.97500\n",
      "[1100]\ttrain-mlogloss:0.65766\ttest-mlogloss:0.97393\n",
      "[1120]\ttrain-mlogloss:0.65251\ttest-mlogloss:0.97264\n",
      "[1140]\ttrain-mlogloss:0.64741\ttest-mlogloss:0.97185\n",
      "[1160]\ttrain-mlogloss:0.64224\ttest-mlogloss:0.97041\n",
      "[1180]\ttrain-mlogloss:0.63723\ttest-mlogloss:0.96938\n",
      "[1200]\ttrain-mlogloss:0.63225\ttest-mlogloss:0.96840\n",
      "[1220]\ttrain-mlogloss:0.62729\ttest-mlogloss:0.96737\n",
      "[1240]\ttrain-mlogloss:0.62270\ttest-mlogloss:0.96651\n",
      "[1260]\ttrain-mlogloss:0.61786\ttest-mlogloss:0.96534\n",
      "[1280]\ttrain-mlogloss:0.61301\ttest-mlogloss:0.96453\n",
      "[1300]\ttrain-mlogloss:0.60825\ttest-mlogloss:0.96337\n",
      "[1320]\ttrain-mlogloss:0.60347\ttest-mlogloss:0.96231\n",
      "[1340]\ttrain-mlogloss:0.59897\ttest-mlogloss:0.96146\n",
      "[1360]\ttrain-mlogloss:0.59445\ttest-mlogloss:0.96058\n",
      "[1380]\ttrain-mlogloss:0.59005\ttest-mlogloss:0.95995\n",
      "[1400]\ttrain-mlogloss:0.58560\ttest-mlogloss:0.95927\n",
      "[1420]\ttrain-mlogloss:0.58127\ttest-mlogloss:0.95845\n",
      "[1440]\ttrain-mlogloss:0.57691\ttest-mlogloss:0.95754\n",
      "[1460]\ttrain-mlogloss:0.57262\ttest-mlogloss:0.95696\n",
      "[1480]\ttrain-mlogloss:0.56821\ttest-mlogloss:0.95628\n",
      "[1500]\ttrain-mlogloss:0.56393\ttest-mlogloss:0.95574\n",
      "[1520]\ttrain-mlogloss:0.55979\ttest-mlogloss:0.95495\n",
      "[1540]\ttrain-mlogloss:0.55550\ttest-mlogloss:0.95421\n",
      "[1560]\ttrain-mlogloss:0.55147\ttest-mlogloss:0.95360\n",
      "[1580]\ttrain-mlogloss:0.54731\ttest-mlogloss:0.95263\n",
      "[1600]\ttrain-mlogloss:0.54308\ttest-mlogloss:0.95231\n",
      "[1620]\ttrain-mlogloss:0.53900\ttest-mlogloss:0.95149\n",
      "[1640]\ttrain-mlogloss:0.53513\ttest-mlogloss:0.95107\n",
      "[1660]\ttrain-mlogloss:0.53119\ttest-mlogloss:0.95052\n",
      "[1680]\ttrain-mlogloss:0.52740\ttest-mlogloss:0.94983\n",
      "[1700]\ttrain-mlogloss:0.52372\ttest-mlogloss:0.94967\n",
      "[1720]\ttrain-mlogloss:0.51997\ttest-mlogloss:0.94921\n",
      "[1740]\ttrain-mlogloss:0.51618\ttest-mlogloss:0.94883\n",
      "[1760]\ttrain-mlogloss:0.51245\ttest-mlogloss:0.94848\n",
      "[1780]\ttrain-mlogloss:0.50887\ttest-mlogloss:0.94784\n",
      "[1800]\ttrain-mlogloss:0.50523\ttest-mlogloss:0.94735\n",
      "[1820]\ttrain-mlogloss:0.50157\ttest-mlogloss:0.94671\n",
      "[1840]\ttrain-mlogloss:0.49772\ttest-mlogloss:0.94637\n",
      "[1860]\ttrain-mlogloss:0.49422\ttest-mlogloss:0.94606\n",
      "[1880]\ttrain-mlogloss:0.49061\ttest-mlogloss:0.94565\n",
      "[1900]\ttrain-mlogloss:0.48712\ttest-mlogloss:0.94493\n",
      "[1920]\ttrain-mlogloss:0.48358\ttest-mlogloss:0.94448\n",
      "[1940]\ttrain-mlogloss:0.48011\ttest-mlogloss:0.94399\n",
      "[1960]\ttrain-mlogloss:0.47677\ttest-mlogloss:0.94356\n",
      "[1980]\ttrain-mlogloss:0.47334\ttest-mlogloss:0.94330\n",
      "[1999]\ttrain-mlogloss:0.47017\ttest-mlogloss:0.94300\n",
      "cv scores :  [0.9430046196758779]\n"
     ]
    }
   ],
   "source": [
    "kf = model_selection.KFold(n_splits=5, shuffle=True, random_state=2017)\n",
    "cv_scores = []\n",
    "pred_full_test = 0\n",
    "pred_train = np.zeros([train_df.shape[0], 5])\n",
    "for dev_index, val_index in kf.split(train_X):\n",
    "    dev_X, val_X = train_X.loc[dev_index], train_X.loc[val_index]\n",
    "    dev_y, val_y = train_y[dev_index], train_y[val_index]\n",
    "    pred_val_y, pred_test_y, model = runXGB(dev_X, dev_y, val_X, val_y, test_X, seed_val=0)\n",
    "    pred_full_test = pred_full_test + pred_test_y\n",
    "    pred_train[val_index,:] = pred_val_y\n",
    "    cv_scores.append(metrics.log_loss(val_y, pred_val_y))\n",
    "    break\n",
    "print(\"cv scores : \", cv_scores)"
   ]
  },
  {
   "cell_type": "markdown",
   "metadata": {
    "id": "Hx0VitQ6FsZY"
   },
   "source": [
    "메타 피쳐만 사용해 mlogloss '0.943'이 나왔고 나쁘지 않은 결과입니다. 피쳐 중요로를 보자면 아래와 같습니다 "
   ]
  },
  {
   "cell_type": "code",
   "execution_count": 31,
   "metadata": {
    "colab": {
     "base_uri": "https://localhost:8080/",
     "height": 576
    },
    "id": "CnsHhT4dFsZY",
    "outputId": "73601e36-250e-4abc-f491-f5766b769ce0"
   },
   "outputs": [
    {
     "data": {
      "image/png": "[encoded data removed]",
      "text/plain": [
       "<Figure size 864x864 with 1 Axes>"
      ]
     },
     "metadata": {
      "needs_background": "light"
     },
     "output_type": "display_data"
    }
   ],
   "source": [
    "### Plot the important variables ###\n",
    "fig, ax = plt.subplots(figsize=(12,12))\n",
    "xgb.plot_importance(model, max_num_features=50, height=0.8, ax=ax)\n",
    "plt.show()"
   ]
  },
  {
   "cell_type": "markdown",
   "metadata": {
    "id": "-4Gg_tbdFsZb"
   },
   "source": [
    "세미콜론 갯수, 문장부호 갯수, 따옴표 갯수 3개가 중요도 순위 탑3에 드는 걸 보실 수 있습니다.\n",
    "\n",
    "**텍스트 기반 피쳐 :**\n",
    "\n",
    "tf-idf 값을 통해 피쳐를 생성해보겠습니다.\n",
    "모델로는 총 10가지 모델을 실험해본 결과 naive bayes의 multinomial의 isotonic모델이 가장빠르면서도 정확했고 그 다음으로는 bernoulli, sgd랑 passive aggressive 세 모델이 속도/정확도 측면에서 좋아 고르게 되었습니다.\n",
    "\n",
    "모델선택과 하이퍼파라미터 튜닝 코드는 후에 정리하여 따로 올려보도록 하겠습니다."
   ]
  },
  {
   "cell_type": "code",
   "execution_count": 32,
   "metadata": {
    "id": "rnsydfVnFsZb"
   },
   "outputs": [],
   "source": [
    "### Fit transform the tfidf vectorizer ###\n",
    "tfidf_vec = TfidfVectorizer(stop_words='english', ngram_range=(1,3))\n",
    "full_tfidf = tfidf_vec.fit_transform(train_df['text'].values.tolist() + test_df['text'].values.tolist())\n",
    "train_tfidf = tfidf_vec.transform(train_df['text'].values.tolist())\n",
    "test_tfidf = tfidf_vec.transform(test_df['text'].values.tolist())"
   ]
  },
  {
   "cell_type": "code",
   "execution_count": 44,
   "metadata": {
    "id": "NubFr_wmFsZe"
   },
   "outputs": [],
   "source": [
    "from sklearn.calibration import CalibratedClassifierCV\n",
    "from sklearn.naive_bayes import MultinomialNB, BernoulliNB\n",
    "from sklearn.linear_model import SGDClassifier, LogisticRegression, PassiveAggressiveClassifier, RidgeClassifier \n",
    "from sklearn.ensemble import VotingClassifier\n",
    "\n",
    "def runMNB(train_X, train_y, test_X, test_y, test_X2):\n",
    "    model = CalibratedClassifierCV(MultinomialNB(alpha=0.03), method='isotonic')\n",
    "    model.fit(train_X, train_y)\n",
    "    pred_test_y = model.predict_proba(test_X)\n",
    "    pred_test_y2 = model.predict_proba(test_X2)\n",
    "    return pred_test_y, pred_test_y2, model\n",
    "\n",
    "def runBER(train_X, train_y, test_X, test_y, test_X2):\n",
    "    model = CalibratedClassifierCV(BernoulliNB(alpha=0.03), method='isotonic')\n",
    "    model.fit(train_X, train_y)\n",
    "    pred_test_y = model.predict_proba(test_X)\n",
    "    pred_test_y2 = model.predict_proba(test_X2)\n",
    "    return pred_test_y, pred_test_y2, model\n",
    "\n",
    "def runSGD(train_X, train_y, test_X, test_y, test_X2):\n",
    "    model = CalibratedClassifierCV(SGDClassifier(loss='modified_huber', alpha=1e-4, tol=1e-5, \n",
    "                                                 penalty='elasticnet'), method='sigmoid')\n",
    "    model.fit(train_X, train_y)\n",
    "    pred_test_y = model.predict_proba(test_X)\n",
    "    pred_test_y2 = model.predict_proba(test_X2)\n",
    "    return pred_test_y, pred_test_y2, model\n",
    "\n",
    "def runPAS(train_X, train_y, test_X, test_y, test_X2):\n",
    "    model = CalibratedClassifierCV(PassiveAggressiveClassifier(C=1e-2, tol=1e-3), method='isotonic')\n",
    "    model.fit(train_X, train_y)\n",
    "    pred_test_y = model.predict_proba(test_X)\n",
    "    pred_test_y2 = model.predict_proba(test_X2)\n",
    "    return pred_test_y, pred_test_y2, model"
   ]
  },
  {
   "cell_type": "code",
   "execution_count": 34,
   "metadata": {
    "colab": {
     "base_uri": "https://localhost:8080/"
    },
    "id": "LtbXIBAiFsZg",
    "outputId": "a19e503f-4973-4772-cd5e-94a4f607a833"
   },
   "outputs": [
    {
     "name": "stdout",
     "output_type": "stream",
     "text": [
      "Mean cv score :  0.7094077833055591\n"
     ]
    }
   ],
   "source": [
    "cv_scores = []\n",
    "pred_full_test = 0\n",
    "pred_train = np.zeros([train_df.shape[0], 5])\n",
    "kf = model_selection.KFold(n_splits=5, shuffle=True, random_state=2017)\n",
    "for dev_index, val_index in kf.split(train_X):\n",
    "    dev_X, val_X = train_tfidf[dev_index], train_tfidf[val_index]\n",
    "    dev_y, val_y = train_y[dev_index], train_y[val_index]\n",
    "    pred_val_y, pred_test_y, model = runMNB(dev_X, dev_y, val_X, val_y, test_tfidf)\n",
    "    pred_full_test = pred_full_test + pred_test_y\n",
    "    pred_train[val_index,:] = pred_val_y\n",
    "    cv_scores.append(metrics.log_loss(val_y, pred_val_y))\n",
    "print(\"Mean cv score : \", np.mean(cv_scores))\n",
    "pred_full_test = pred_full_test / 5."
   ]
  },
  {
   "cell_type": "code",
   "execution_count": 35,
   "metadata": {},
   "outputs": [
    {
     "name": "stdout",
     "output_type": "stream",
     "text": [
      "Mean cv score :  0.9208806591031429\n"
     ]
    }
   ],
   "source": [
    "cv_scores = []\n",
    "pred_full_test = 0\n",
    "pred_train = np.zeros([train_df.shape[0], 5])\n",
    "kf = model_selection.KFold(n_splits=5, shuffle=True, random_state=2017)\n",
    "for dev_index, val_index in kf.split(train_X):\n",
    "    dev_X, val_X = train_tfidf[dev_index], train_tfidf[val_index]\n",
    "    dev_y, val_y = train_y[dev_index], train_y[val_index]\n",
    "    pred_val_y, pred_test_y, model = runBER(dev_X, dev_y, val_X, val_y, test_tfidf)\n",
    "    pred_full_test = pred_full_test + pred_test_y\n",
    "    pred_train[val_index,:] = pred_val_y\n",
    "    cv_scores.append(metrics.log_loss(val_y, pred_val_y))\n",
    "print(\"Mean cv score : \", np.mean(cv_scores))\n",
    "pred_full_test = pred_full_test / 5."
   ]
  },
  {
   "cell_type": "code",
   "execution_count": 36,
   "metadata": {},
   "outputs": [
    {
     "name": "stdout",
     "output_type": "stream",
     "text": [
      "Mean cv score :  0.847205523948354\n"
     ]
    }
   ],
   "source": [
    "cv_scores = []\n",
    "pred_full_test = 0\n",
    "pred_train = np.zeros([train_df.shape[0], 5])\n",
    "kf = model_selection.KFold(n_splits=5, shuffle=True, random_state=2017)\n",
    "for dev_index, val_index in kf.split(train_X):\n",
    "    dev_X, val_X = train_tfidf[dev_index], train_tfidf[val_index]\n",
    "    dev_y, val_y = train_y[dev_index], train_y[val_index]\n",
    "    pred_val_y, pred_test_y, model = runSGD(dev_X, dev_y, val_X, val_y, test_tfidf)\n",
    "    pred_full_test = pred_full_test + pred_test_y\n",
    "    pred_train[val_index,:] = pred_val_y\n",
    "    cv_scores.append(metrics.log_loss(val_y, pred_val_y))\n",
    "print(\"Mean cv score : \", np.mean(cv_scores))\n",
    "pred_full_test = pred_full_test / 5."
   ]
  },
  {
   "cell_type": "code",
   "execution_count": 39,
   "metadata": {
    "scrolled": true
   },
   "outputs": [
    {
     "name": "stdout",
     "output_type": "stream",
     "text": [
      "Mean cv score :  0.7712206197146423\n"
     ]
    }
   ],
   "source": [
    "cv_scores = []\n",
    "pred_full_test = 0\n",
    "pred_train = np.zeros([train_df.shape[0], 5])\n",
    "kf = model_selection.KFold(n_splits=5, shuffle=True, random_state=2017)\n",
    "for dev_index, val_index in kf.split(train_X):\n",
    "    dev_X, val_X = train_tfidf[dev_index], train_tfidf[val_index]\n",
    "    dev_y, val_y = train_y[dev_index], train_y[val_index]\n",
    "    pred_val_y, pred_test_y, model = runPAS(dev_X, dev_y, val_X, val_y, test_tfidf)\n",
    "    pred_full_test = pred_full_test + pred_test_y\n",
    "    pred_train[val_index,:] = pred_val_y\n",
    "    cv_scores.append(metrics.log_loss(val_y, pred_val_y))\n",
    "print(\"Mean cv score : \", np.mean(cv_scores))\n",
    "pred_full_test = pred_full_test / 5."
   ]
  },
  {
   "cell_type": "markdown",
   "metadata": {},
   "source": [
    "linearsvc와 ridge는 정확도는 괜찮지만 대량 데이터 처리하기엔 계산 속도가 너무 느려 제외하였습니다."
   ]
  },
  {
   "cell_type": "code",
   "execution_count": 49,
   "metadata": {},
   "outputs": [],
   "source": [
    "from sklearn.svm import LinearSVC"
   ]
  },
  {
   "cell_type": "code",
   "execution_count": 51,
   "metadata": {},
   "outputs": [
    {
     "name": "stderr",
     "output_type": "stream",
     "text": [
      "/home/yjunwoo14/anaconda3/lib/python3.8/site-packages/sklearn/svm/_base.py:976: ConvergenceWarning: Liblinear failed to converge, increase the number of iterations.\n",
      "  warnings.warn(\"Liblinear failed to converge, increase \"\n",
      "/home/yjunwoo14/anaconda3/lib/python3.8/site-packages/sklearn/svm/_base.py:976: ConvergenceWarning: Liblinear failed to converge, increase the number of iterations.\n",
      "  warnings.warn(\"Liblinear failed to converge, increase \"\n",
      "/home/yjunwoo14/anaconda3/lib/python3.8/site-packages/sklearn/svm/_base.py:976: ConvergenceWarning: Liblinear failed to converge, increase the number of iterations.\n",
      "  warnings.warn(\"Liblinear failed to converge, increase \"\n"
     ]
    },
    {
     "name": "stdout",
     "output_type": "stream",
     "text": [
      "Mean cv score :  0.7949828832410619\n"
     ]
    }
   ],
   "source": [
    "def runPAS1(train_X, train_y, test_X, test_y, test_X2):\n",
    "    model = CalibratedClassifierCV(LinearSVC(C=2, penalty='l1', max_iter=2000, dual=False),\n",
    "                                   method='isotonic')\n",
    "    model.fit(train_X, train_y)\n",
    "    pred_test_y = model.predict_proba(test_X)\n",
    "    pred_test_y2 = model.predict_proba(test_X2)\n",
    "    return pred_test_y, pred_test_y2, model\n",
    "\n",
    "cv_scores = []\n",
    "pred_full_test = 0\n",
    "pred_train = np.zeros([train_df.shape[0], 5])\n",
    "kf = model_selection.KFold(n_splits=5, shuffle=True, random_state=2017)\n",
    "for dev_index, val_index in kf.split(train_X):\n",
    "    dev_X, val_X = train_tfidf[dev_index], train_tfidf[val_index]\n",
    "    dev_y, val_y = train_y[dev_index], train_y[val_index]\n",
    "    pred_val_y, pred_test_y, model = runPAS1(dev_X, dev_y, val_X, val_y, test_tfidf)\n",
    "    pred_full_test = pred_full_test + pred_test_y\n",
    "    pred_train[val_index,:] = pred_val_y\n",
    "    cv_scores.append(metrics.log_loss(val_y, pred_val_y))\n",
    "print(\"Mean cv score : \", np.mean(cv_scores))\n",
    "pred_full_test = pred_full_test / 5."
   ]
  },
  {
   "cell_type": "code",
   "execution_count": 53,
   "metadata": {},
   "outputs": [
    {
     "name": "stdout",
     "output_type": "stream",
     "text": [
      "Mean cv score :  0.7799920747142567\n"
     ]
    }
   ],
   "source": [
    "def runPAS2(train_X, train_y, test_X, test_y, test_X2):\n",
    "    model = CalibratedClassifierCV(RidgeClassifier(alpha=1e0, solver='sag', tol=1e-3, max_iter=2000), method='isotonic')\n",
    "    model.fit(train_X, train_y)\n",
    "    pred_test_y = model.predict_proba(test_X)\n",
    "    pred_test_y2 = model.predict_proba(test_X2)\n",
    "    return pred_test_y, pred_test_y2, model\n",
    "\n",
    "cv_scores = []\n",
    "pred_full_test = 0\n",
    "pred_train = np.zeros([train_df.shape[0], 5])\n",
    "kf = model_selection.KFold(n_splits=5, shuffle=True, random_state=2017)\n",
    "for dev_index, val_index in kf.split(train_X):\n",
    "    dev_X, val_X = train_tfidf[dev_index], train_tfidf[val_index]\n",
    "    dev_y, val_y = train_y[dev_index], train_y[val_index]\n",
    "    pred_val_y, pred_test_y, model = runPAS2(dev_X, dev_y, val_X, val_y, test_tfidf)\n",
    "    pred_full_test = pred_full_test + pred_test_y\n",
    "    pred_train[val_index,:] = pred_val_y\n",
    "    cv_scores.append(metrics.log_loss(val_y, pred_val_y))\n",
    "print(\"Mean cv score : \", np.mean(cv_scores))\n",
    "pred_full_test = pred_full_test / 5."
   ]
  },
  {
   "cell_type": "markdown",
   "metadata": {
    "id": "E7Ll-9vYFsZi"
   },
   "source": [
    "모덱 성능 확인을 위한 confusion matrix를 계산하는 코드입니다.\n",
    "모델별 따로 확인하였으며 참고용으로 남겨놓습니다."
   ]
  },
  {
   "cell_type": "code",
   "execution_count": 54,
   "metadata": {
    "id": "b679h6YbFsZj"
   },
   "outputs": [],
   "source": [
    "### Function to create confusion matrix ###\n",
    "import itertools\n",
    "from sklearn.metrics import confusion_matrix\n",
    "\n",
    "### From http://scikit-learn.org/stable/auto_examples/model_selection/plot_confusion_matrix.html#sphx-glr-auto-examples-model-selection-plot-confusion-matrix-py #\n",
    "def plot_confusion_matrix(cm, classes,\n",
    "                          normalize=False,\n",
    "                          title='Confusion matrix',\n",
    "                          cmap=plt.cm.Blues):\n",
    "    \"\"\"\n",
    "    This function prints and plots the confusion matrix.\n",
    "    Normalization can be applied by setting `normalize=True`.\n",
    "    \"\"\"\n",
    "    if normalize:\n",
    "        cm = cm.astype('float') / cm.sum(axis=1)[:, np.newaxis]\n",
    "        #print(\"Normalized confusion matrix\")\n",
    "    #else:\n",
    "    #    print('Confusion matrix, without normalization')\n",
    "\n",
    "    #print(cm)\n",
    "\n",
    "    plt.imshow(cm, interpolation='nearest', cmap=cmap)\n",
    "    plt.title(title)\n",
    "    plt.colorbar()\n",
    "    tick_marks = np.arange(len(classes))\n",
    "    plt.xticks(tick_marks, classes, rotation=45)\n",
    "    plt.yticks(tick_marks, classes)\n",
    "\n",
    "    fmt = '.2f' if normalize else 'd'\n",
    "    thresh = cm.max() / 2.\n",
    "    for i, j in itertools.product(range(cm.shape[0]), range(cm.shape[1])):\n",
    "        plt.text(j, i, format(cm[i, j], fmt),\n",
    "                 horizontalalignment=\"center\",\n",
    "                 color=\"white\" if cm[i, j] > thresh else \"black\")\n",
    "\n",
    "    plt.tight_layout()\n",
    "    plt.ylabel('True label')\n",
    "    plt.xlabel('Predicted label')"
   ]
  },
  {
   "cell_type": "markdown",
   "metadata": {
    "id": "4eLsTS_FFsZn"
   },
   "source": [
    "**SVD와 TFIDF:**\n",
    "\n",
    "tfidf 벡터는 분산되어있기에 특이값분해(svd)를 통해 정보를 함축하여 피쳐를 생성해보겠습니다. word tfidf에 svd를 적용시켰고 대각선 특이값 상위20개를 사용하였습니다 (n_comp)\n",
    "\n",
    "자세한 설명 및 참조\n",
    "https://ratsgo.github.io/from%20frequency%20to%20semantics/2017/04/06/pcasvdlsa/\n"
   ]
  },
  {
   "cell_type": "code",
   "execution_count": 56,
   "metadata": {
    "id": "g3v8DVHFFsZn"
   },
   "outputs": [],
   "source": [
    "n_comp = 20\n",
    "svd_obj = TruncatedSVD(n_components=n_comp, algorithm='arpack')\n",
    "svd_obj.fit(full_tfidf)\n",
    "train_svd = pd.DataFrame(svd_obj.transform(train_tfidf))\n",
    "test_svd = pd.DataFrame(svd_obj.transform(test_tfidf))\n",
    "    \n",
    "train_svd.columns = ['svd_word_'+str(i) for i in range(n_comp)]\n",
    "test_svd.columns = ['svd_word_'+str(i) for i in range(n_comp)]\n",
    "train_df = pd.concat([train_df, train_svd], axis=1)\n",
    "test_df = pd.concat([test_df, test_svd], axis=1)\n",
    "del full_tfidf, train_tfidf, test_tfidf, train_svd, test_svd"
   ]
  },
  {
   "cell_type": "markdown",
   "metadata": {},
   "source": [
    "이번엔 countervectorizer을 사용해 4가지 모델로 피쳐를 추가하겠습니다.\n",
    "또한 다양한 단위로 토큰화 해보았습니다(char, char_wb, word)"
   ]
  },
  {
   "cell_type": "code",
   "execution_count": 57,
   "metadata": {
    "id": "q33WX3ZHFsZq"
   },
   "outputs": [],
   "source": [
    "### Fit transform the count vectorizer ###\n",
    "tfidf_vec = CountVectorizer(stop_words='english', ngram_range=(1,3))\n",
    "tfidf_vec.fit(train_df['text'].values.tolist() + test_df['text'].values.tolist())\n",
    "train_tfidf = tfidf_vec.transform(train_df['text'].values.tolist())\n",
    "test_tfidf = tfidf_vec.transform(test_df['text'].values.tolist())"
   ]
  },
  {
   "cell_type": "code",
   "execution_count": 58,
   "metadata": {
    "colab": {
     "base_uri": "https://localhost:8080/"
    },
    "id": "5sjqj2m1FsZs",
    "outputId": "c6f0a089-1128-462c-9236-e0a7e05f1f4d"
   },
   "outputs": [
    {
     "name": "stdout",
     "output_type": "stream",
     "text": [
      "Mean cv score :  0.7335224993074444\n"
     ]
    }
   ],
   "source": [
    "cv_scores = []\n",
    "pred_full_test = 0\n",
    "pred_train = np.zeros([train_df.shape[0], 5])\n",
    "kf = model_selection.KFold(n_splits=5, shuffle=True, random_state=2017)\n",
    "for dev_index, val_index in kf.split(train_X):\n",
    "    dev_X, val_X = train_tfidf[dev_index], train_tfidf[val_index]\n",
    "    dev_y, val_y = train_y[dev_index], train_y[val_index]\n",
    "    pred_val_y, pred_test_y, model = runMNB(dev_X, dev_y, val_X, val_y, test_tfidf)\n",
    "    pred_full_test = pred_full_test + pred_test_y\n",
    "    pred_train[val_index,:] = pred_val_y\n",
    "    cv_scores.append(metrics.log_loss(val_y, pred_val_y))\n",
    "print(\"Mean cv score : \", np.mean(cv_scores))\n",
    "pred_full_test = pred_full_test / 5.\n",
    "# add the predictions as new features #\n",
    "train_df[\"nb_word2_0\"] = pred_train[:,0]\n",
    "train_df[\"nb_word2_1\"] = pred_train[:,1]\n",
    "train_df[\"nb_word2_2\"] = pred_train[:,2]\n",
    "train_df[\"nb_word2_3\"] = pred_train[:,3]\n",
    "train_df[\"nb_word2_4\"] = pred_train[:,4]\n",
    "\n",
    "\n",
    "test_df[\"nb_word2_0\"] = pred_full_test[:,0]\n",
    "test_df[\"nb_word2_1\"] = pred_full_test[:,1]\n",
    "test_df[\"nb_word2_2\"] = pred_full_test[:,2]\n",
    "test_df[\"nb_word2_3\"] = pred_full_test[:,3]\n",
    "test_df[\"nb_word2_4\"] = pred_full_test[:,4]"
   ]
  },
  {
   "cell_type": "code",
   "execution_count": 59,
   "metadata": {
    "colab": {
     "base_uri": "https://localhost:8080/",
     "height": 585
    },
    "id": "N9ZgEJEEFsZu",
    "outputId": "e9e18231-ec22-41a7-f332-91ecc7d36f27"
   },
   "outputs": [
    {
     "data": {
      "image/png": "[encoded data removed]",
      "text/plain": [
       "<Figure size 576x576 with 2 Axes>"
      ]
     },
     "metadata": {
      "needs_background": "light"
     },
     "output_type": "display_data"
    }
   ],
   "source": [
    "cnf_matrix = confusion_matrix(val_y, np.argmax(pred_val_y,axis=1))\n",
    "np.set_printoptions(precision=2)\n",
    "\n",
    "# Plot non-normalized confusion matrix\n",
    "plt.figure(figsize=(8,8))\n",
    "plot_confusion_matrix(cnf_matrix, classes=['1', '2', '3', '4', '5'],\n",
    "                      title='Confusion matrix of NB on word count, without normalization')\n",
    "plt.show()"
   ]
  },
  {
   "cell_type": "code",
   "execution_count": 60,
   "metadata": {
    "colab": {
     "background_save": true
    },
    "id": "Brb7mUFHFsZw",
    "outputId": "f691310a-5b49-4f79-bc3e-125d57882ad1"
   },
   "outputs": [
    {
     "name": "stdout",
     "output_type": "stream",
     "text": [
      "Mean cv score :  0.9208806591031429\n"
     ]
    }
   ],
   "source": [
    "cv_scores = []\n",
    "pred_full_test = 0\n",
    "pred_train = np.zeros([train_df.shape[0], 5])\n",
    "kf = model_selection.KFold(n_splits=5, shuffle=True, random_state=2017)\n",
    "for dev_index, val_index in kf.split(train_X):\n",
    "    dev_X, val_X = train_tfidf[dev_index], train_tfidf[val_index]\n",
    "    dev_y, val_y = train_y[dev_index], train_y[val_index]\n",
    "    pred_val_y, pred_test_y, model = runBER(dev_X, dev_y, val_X, val_y, test_tfidf)\n",
    "    pred_full_test = pred_full_test + pred_test_y\n",
    "    pred_train[val_index,:] = pred_val_y\n",
    "    cv_scores.append(metrics.log_loss(val_y, pred_val_y))\n",
    "print(\"Mean cv score : \", np.mean(cv_scores))\n",
    "pred_full_test = pred_full_test / 5.\n",
    "# add the predictions as new features #\n",
    "train_df[\"ber_word2_0\"] = pred_train[:,0]\n",
    "train_df[\"ber_word2_1\"] = pred_train[:,1]\n",
    "train_df[\"ber_word2_2\"] = pred_train[:,2]\n",
    "train_df[\"ber_word2_3\"] = pred_train[:,3]\n",
    "train_df[\"ber_word2_4\"] = pred_train[:,4]\n",
    "\n",
    "\n",
    "test_df[\"ber_word2_0\"] = pred_full_test[:,0]\n",
    "test_df[\"ber_word2_1\"] = pred_full_test[:,1]\n",
    "test_df[\"ber_word2_2\"] = pred_full_test[:,2]\n",
    "test_df[\"ber_word2_3\"] = pred_full_test[:,3]\n",
    "test_df[\"ber_word2_4\"] = pred_full_test[:,4]\n"
   ]
  },
  {
   "cell_type": "code",
   "execution_count": 61,
   "metadata": {},
   "outputs": [
    {
     "name": "stdout",
     "output_type": "stream",
     "text": [
      "cv scores :  [0.7471266026168288]\n"
     ]
    }
   ],
   "source": [
    "\n",
    "cv_scores = []\n",
    "pred_full_test = 0\n",
    "pred_train = np.zeros([train_df.shape[0], 5])\n",
    "\n",
    "kf = model_selection.KFold(n_splits=5, shuffle=True, random_state=2017)\n",
    "for dev_index, val_index in kf.split(train_X):\n",
    "    dev_X, val_X = train_tfidf[dev_index], train_tfidf[val_index]\n",
    "    dev_y, val_y = train_y[dev_index], train_y[val_index]\n",
    "    pred_val_y, pred_test_y, model = runSGD(dev_X, dev_y, val_X, val_y, test_tfidf)\n",
    "    pred_full_test = pred_full_test + pred_test_y\n",
    "    pred_train[val_index,:] = pred_val_y\n",
    "    cv_scores.append(metrics.log_loss(val_y, pred_val_y))\n",
    "    break\n",
    "print(\"cv scores : \", cv_scores)\n",
    "pred_full_test /= 5\n",
    "\n",
    "train_df[\"em_word2_0\"] = pred_train[:,0]\n",
    "train_df[\"em_word2_1\"] = pred_train[:,1]\n",
    "train_df[\"em_word2_2\"] = pred_train[:,2]\n",
    "train_df[\"em_word2_3\"] = pred_train[:,3]\n",
    "train_df[\"em_word2_4\"] = pred_train[:,4]\n",
    "\n",
    "\n",
    "test_df[\"em_word2_0\"] = pred_full_test[:,0]\n",
    "test_df[\"em_word2_1\"] = pred_full_test[:,1]\n",
    "test_df[\"em_word2_2\"] = pred_full_test[:,2]\n",
    "test_df[\"em_word2_3\"] = pred_full_test[:,3]\n",
    "test_df[\"em_word2_4\"] = pred_full_test[:,4]"
   ]
  },
  {
   "cell_type": "code",
   "execution_count": 62,
   "metadata": {},
   "outputs": [
    {
     "name": "stdout",
     "output_type": "stream",
     "text": [
      "cv scores :  [0.7986616905935812]\n"
     ]
    }
   ],
   "source": [
    "\n",
    "cv_scores = []\n",
    "pred_full_test = 0\n",
    "pred_train = np.zeros([train_df.shape[0], 5])\n",
    "\n",
    "kf = model_selection.KFold(n_splits=5, shuffle=True, random_state=2017)\n",
    "for dev_index, val_index in kf.split(train_X):\n",
    "    dev_X, val_X = train_tfidf[dev_index], train_tfidf[val_index]\n",
    "    dev_y, val_y = train_y[dev_index], train_y[val_index]\n",
    "    pred_val_y, pred_test_y, model = runPAS(dev_X, dev_y, val_X, val_y, test_tfidf)\n",
    "    pred_full_test = pred_full_test + pred_test_y\n",
    "    pred_train[val_index,:] = pred_val_y\n",
    "    cv_scores.append(metrics.log_loss(val_y, pred_val_y))\n",
    "    break\n",
    "print(\"cv scores : \", cv_scores)\n",
    "pred_full_test /= 5\n",
    "\n",
    "train_df[\"pas_word2_0\"] = pred_train[:,0]\n",
    "train_df[\"pas_word2_1\"] = pred_train[:,1]\n",
    "train_df[\"pas_word2_2\"] = pred_train[:,2]\n",
    "train_df[\"pas_word2_3\"] = pred_train[:,3]\n",
    "train_df[\"pas_word2_4\"] = pred_train[:,4]\n",
    "\n",
    "\n",
    "test_df[\"pas_word2_0\"] = pred_full_test[:,0]\n",
    "test_df[\"pas_word2_1\"] = pred_full_test[:,1]\n",
    "test_df[\"pas_word2_2\"] = pred_full_test[:,2]\n",
    "test_df[\"pas_word2_3\"] = pred_full_test[:,3]\n",
    "test_df[\"pas_word2_4\"] = pred_full_test[:,4]"
   ]
  },
  {
   "cell_type": "code",
   "execution_count": 63,
   "metadata": {},
   "outputs": [
    {
     "name": "stderr",
     "output_type": "stream",
     "text": [
      "/home/yjunwoo14/anaconda3/lib/python3.8/site-packages/sklearn/calibration.py:381: RuntimeWarning: invalid value encountered in true_divide\n",
      "  proba /= np.sum(proba, axis=1)[:, np.newaxis]\n",
      "/home/yjunwoo14/anaconda3/lib/python3.8/site-packages/sklearn/calibration.py:381: RuntimeWarning: invalid value encountered in true_divide\n",
      "  proba /= np.sum(proba, axis=1)[:, np.newaxis]\n"
     ]
    },
    {
     "name": "stdout",
     "output_type": "stream",
     "text": [
      "Mean cv score :  0.6309694490244755\n"
     ]
    }
   ],
   "source": [
    "tfidf_vec = CountVectorizer(analyzer='char_wb', ngram_range=(1, 5))\n",
    "tfidf_vec.fit(train_df['text'].values.tolist() + test_df['text'].values.tolist())\n",
    "train_tfidf = tfidf_vec.transform(train_df['text'].values.tolist())\n",
    "test_tfidf = tfidf_vec.transform(test_df['text'].values.tolist())\n",
    "\n",
    "cv_scores = []\n",
    "pred_full_test = 0\n",
    "pred_train = np.zeros([train_df.shape[0], 5])\n",
    "kf = model_selection.KFold(n_splits=5, shuffle=True, random_state=2017)\n",
    "for dev_index, val_index in kf.split(train_X):\n",
    "    dev_X, val_X = train_tfidf[dev_index], train_tfidf[val_index]\n",
    "    dev_y, val_y = train_y[dev_index], train_y[val_index]\n",
    "    pred_val_y, pred_test_y, model = runMNB(dev_X, dev_y, val_X, val_y, test_tfidf)\n",
    "    pred_full_test = pred_full_test + pred_test_y\n",
    "    pred_train[val_index,:] = pred_val_y\n",
    "    cv_scores.append(metrics.log_loss(val_y, pred_val_y))\n",
    "print(\"Mean cv score : \", np.mean(cv_scores))\n",
    "pred_full_test = pred_full_test / 5.\n",
    "\n",
    "# add the predictions as new features #\n",
    "train_df[\"nb_c2_0\"] = pred_train[:,0]\n",
    "train_df[\"nb_c2_1\"] = pred_train[:,1]\n",
    "train_df[\"nb_c2_2\"] = pred_train[:,2]\n",
    "train_df[\"nb_c2_3\"] = pred_train[:,3]\n",
    "train_df[\"nb_c2_4\"] = pred_train[:,4]\n",
    "\n",
    "\n",
    "test_df[\"nb_c2_0\"] = pred_full_test[:,0]\n",
    "test_df[\"nb_c2_1\"] = pred_full_test[:,1]\n",
    "test_df[\"nb_c2_2\"] = pred_full_test[:,2]\n",
    "test_df[\"nb_c2_3\"] = pred_full_test[:,3]\n",
    "test_df[\"nb_c2_4\"] = pred_full_test[:,4]\n"
   ]
  },
  {
   "cell_type": "code",
   "execution_count": 64,
   "metadata": {},
   "outputs": [
    {
     "name": "stderr",
     "output_type": "stream",
     "text": [
      "/home/yjunwoo14/anaconda3/lib/python3.8/site-packages/sklearn/calibration.py:381: RuntimeWarning: invalid value encountered in true_divide\n",
      "  proba /= np.sum(proba, axis=1)[:, np.newaxis]\n",
      "/home/yjunwoo14/anaconda3/lib/python3.8/site-packages/sklearn/calibration.py:381: RuntimeWarning: invalid value encountered in true_divide\n",
      "  proba /= np.sum(proba, axis=1)[:, np.newaxis]\n",
      "/home/yjunwoo14/anaconda3/lib/python3.8/site-packages/sklearn/calibration.py:381: RuntimeWarning: invalid value encountered in true_divide\n",
      "  proba /= np.sum(proba, axis=1)[:, np.newaxis]\n",
      "/home/yjunwoo14/anaconda3/lib/python3.8/site-packages/sklearn/calibration.py:381: RuntimeWarning: invalid value encountered in true_divide\n",
      "  proba /= np.sum(proba, axis=1)[:, np.newaxis]\n",
      "/home/yjunwoo14/anaconda3/lib/python3.8/site-packages/sklearn/calibration.py:381: RuntimeWarning: invalid value encountered in true_divide\n",
      "  proba /= np.sum(proba, axis=1)[:, np.newaxis]\n",
      "/home/yjunwoo14/anaconda3/lib/python3.8/site-packages/sklearn/calibration.py:381: RuntimeWarning: invalid value encountered in true_divide\n",
      "  proba /= np.sum(proba, axis=1)[:, np.newaxis]\n",
      "/home/yjunwoo14/anaconda3/lib/python3.8/site-packages/sklearn/calibration.py:381: RuntimeWarning: invalid value encountered in true_divide\n",
      "  proba /= np.sum(proba, axis=1)[:, np.newaxis]\n",
      "/home/yjunwoo14/anaconda3/lib/python3.8/site-packages/sklearn/calibration.py:381: RuntimeWarning: invalid value encountered in true_divide\n",
      "  proba /= np.sum(proba, axis=1)[:, np.newaxis]\n",
      "/home/yjunwoo14/anaconda3/lib/python3.8/site-packages/sklearn/calibration.py:381: RuntimeWarning: invalid value encountered in true_divide\n",
      "  proba /= np.sum(proba, axis=1)[:, np.newaxis]\n",
      "/home/yjunwoo14/anaconda3/lib/python3.8/site-packages/sklearn/calibration.py:381: RuntimeWarning: invalid value encountered in true_divide\n",
      "  proba /= np.sum(proba, axis=1)[:, np.newaxis]\n"
     ]
    },
    {
     "name": "stdout",
     "output_type": "stream",
     "text": [
      "Mean cv score :  0.8699746560796363\n"
     ]
    }
   ],
   "source": [
    "cv_scores = []\n",
    "pred_full_test = 0\n",
    "pred_train = np.zeros([train_df.shape[0], 5])\n",
    "kf = model_selection.KFold(n_splits=5, shuffle=True, random_state=2017)\n",
    "for dev_index, val_index in kf.split(train_X):\n",
    "    dev_X, val_X = train_tfidf[dev_index], train_tfidf[val_index]\n",
    "    dev_y, val_y = train_y[dev_index], train_y[val_index]\n",
    "    pred_val_y, pred_test_y, model = runBER(dev_X, dev_y, val_X, val_y, test_tfidf)\n",
    "    pred_full_test = pred_full_test + pred_test_y\n",
    "    pred_train[val_index,:] = pred_val_y\n",
    "    cv_scores.append(metrics.log_loss(val_y, pred_val_y))\n",
    "print(\"Mean cv score : \", np.mean(cv_scores))\n",
    "pred_full_test = pred_full_test / 5.\n",
    "\n",
    "# add the predictions as new features #\n",
    "train_df[\"ber_c2_0\"] = pred_train[:,0]\n",
    "train_df[\"ber_c2_1\"] = pred_train[:,1]\n",
    "train_df[\"ber_c2_2\"] = pred_train[:,2]\n",
    "train_df[\"ber_c2_3\"] = pred_train[:,3]\n",
    "train_df[\"ber_c2_4\"] = pred_train[:,4]\n",
    "\n",
    "\n",
    "test_df[\"ber_c2_0\"] = pred_full_test[:,0]\n",
    "test_df[\"ber_c2_1\"] = pred_full_test[:,1]\n",
    "test_df[\"ber_c2_2\"] = pred_full_test[:,2]\n",
    "test_df[\"ber_c2_3\"] = pred_full_test[:,3]\n",
    "test_df[\"ber_c2_4\"] = pred_full_test[:,4]\n"
   ]
  },
  {
   "cell_type": "code",
   "execution_count": 65,
   "metadata": {},
   "outputs": [
    {
     "name": "stdout",
     "output_type": "stream",
     "text": [
      "cv scores :  [0.690215080159552]\n"
     ]
    }
   ],
   "source": [
    "\n",
    "cv_scores = []\n",
    "pred_full_test = 0\n",
    "pred_train = np.zeros([train_df.shape[0], 5])\n",
    "\n",
    "kf = model_selection.KFold(n_splits=5, shuffle=True, random_state=2017)\n",
    "for dev_index, val_index in kf.split(train_X):\n",
    "    dev_X, val_X = train_tfidf[dev_index], train_tfidf[val_index]\n",
    "    dev_y, val_y = train_y[dev_index], train_y[val_index]\n",
    "    pred_val_y, pred_test_y, model = runSGD(dev_X, dev_y, val_X, val_y, test_tfidf)\n",
    "    pred_full_test = pred_full_test + pred_test_y\n",
    "    pred_train[val_index,:] = pred_val_y\n",
    "    cv_scores.append(metrics.log_loss(val_y, pred_val_y))\n",
    "    break\n",
    "print(\"cv scores : \", cv_scores)\n",
    "pred_full_test /= 5\n",
    "\n",
    "train_df[\"em_c2_0\"] = pred_train[:,0]\n",
    "train_df[\"em_c2_1\"] = pred_train[:,1]\n",
    "train_df[\"em_c2_2\"] = pred_train[:,2]\n",
    "train_df[\"em_c2_3\"] = pred_train[:,3]\n",
    "train_df[\"em_c2_4\"] = pred_train[:,4]\n",
    "\n",
    "\n",
    "test_df[\"em_c2_0\"] = pred_full_test[:,0]\n",
    "test_df[\"em_c2_1\"] = pred_full_test[:,1]\n",
    "test_df[\"em_c2_2\"] = pred_full_test[:,2]\n",
    "test_df[\"em_c2_3\"] = pred_full_test[:,3]\n",
    "test_df[\"em_c2_4\"] = pred_full_test[:,4]"
   ]
  },
  {
   "cell_type": "code",
   "execution_count": 66,
   "metadata": {},
   "outputs": [
    {
     "name": "stdout",
     "output_type": "stream",
     "text": [
      "cv scores :  [0.6699686492041655]\n"
     ]
    }
   ],
   "source": [
    "\n",
    "cv_scores = []\n",
    "pred_full_test = 0\n",
    "pred_train = np.zeros([train_df.shape[0], 5])\n",
    "\n",
    "kf = model_selection.KFold(n_splits=5, shuffle=True, random_state=2017)\n",
    "for dev_index, val_index in kf.split(train_X):\n",
    "    dev_X, val_X = train_tfidf[dev_index], train_tfidf[val_index]\n",
    "    dev_y, val_y = train_y[dev_index], train_y[val_index]\n",
    "    pred_val_y, pred_test_y, model = runPAS(dev_X, dev_y, val_X, val_y, test_tfidf)\n",
    "    pred_full_test = pred_full_test + pred_test_y\n",
    "    pred_train[val_index,:] = pred_val_y\n",
    "    cv_scores.append(metrics.log_loss(val_y, pred_val_y))\n",
    "    break\n",
    "print(\"cv scores : \", cv_scores)\n",
    "pred_full_test /= 5\n",
    "\n",
    "train_df[\"pas_c2_0\"] = pred_train[:,0]\n",
    "train_df[\"pas_c2_1\"] = pred_train[:,1]\n",
    "train_df[\"pas_c2_2\"] = pred_train[:,2]\n",
    "train_df[\"pas_c2_3\"] = pred_train[:,3]\n",
    "train_df[\"pas_c2_4\"] = pred_train[:,4]\n",
    "\n",
    "\n",
    "test_df[\"pas_c2_0\"] = pred_full_test[:,0]\n",
    "test_df[\"pas_c2_1\"] = pred_full_test[:,1]\n",
    "test_df[\"pas_c2_2\"] = pred_full_test[:,2]\n",
    "test_df[\"pas_c2_3\"] = pred_full_test[:,3]\n",
    "test_df[\"pas_c2_4\"] = pred_full_test[:,4]"
   ]
  },
  {
   "cell_type": "code",
   "execution_count": 72,
   "metadata": {
    "colab": {
     "background_save": true
    },
    "id": "8_1Za3EcFsZy"
   },
   "outputs": [],
   "source": [
    "### Fit transform the tfidf vectorizer ###\n",
    "tfidf_vec = CountVectorizer(ngram_range=(1,7), analyzer='char')\n",
    "tfidf_vec.fit(train_df['text'].values.tolist() + test_df['text'].values.tolist())\n",
    "train_tfidf = tfidf_vec.transform(train_df['text'].values.tolist())\n",
    "test_tfidf = tfidf_vec.transform(test_df['text'].values.tolist())\n"
   ]
  },
  {
   "cell_type": "code",
   "execution_count": 73,
   "metadata": {
    "id": "7kYcAxrnO-c2"
   },
   "outputs": [
    {
     "name": "stderr",
     "output_type": "stream",
     "text": [
      "/home/yjunwoo14/anaconda3/lib/python3.8/site-packages/sklearn/calibration.py:381: RuntimeWarning: invalid value encountered in true_divide\n",
      "  proba /= np.sum(proba, axis=1)[:, np.newaxis]\n",
      "/home/yjunwoo14/anaconda3/lib/python3.8/site-packages/sklearn/calibration.py:381: RuntimeWarning: invalid value encountered in true_divide\n",
      "  proba /= np.sum(proba, axis=1)[:, np.newaxis]\n",
      "/home/yjunwoo14/anaconda3/lib/python3.8/site-packages/sklearn/calibration.py:381: RuntimeWarning: invalid value encountered in true_divide\n",
      "  proba /= np.sum(proba, axis=1)[:, np.newaxis]\n"
     ]
    },
    {
     "name": "stdout",
     "output_type": "stream",
     "text": [
      "Mean cv score :  0.5077755827270963\n"
     ]
    }
   ],
   "source": [
    "cv_scores = []\n",
    "pred_full_test = 0\n",
    "pred_train = np.zeros([train_df.shape[0], 5])\n",
    "kf = model_selection.KFold(n_splits=5, shuffle=True, random_state=2017)\n",
    "for dev_index, val_index in kf.split(train_X):\n",
    "    dev_X, val_X = train_tfidf[dev_index], train_tfidf[val_index]\n",
    "    dev_y, val_y = train_y[dev_index], train_y[val_index]\n",
    "    pred_val_y, pred_test_y, model = runMNB(dev_X, dev_y, val_X, val_y, test_tfidf)\n",
    "    pred_full_test = pred_full_test + pred_test_y\n",
    "    pred_train[val_index,:] = pred_val_y\n",
    "    cv_scores.append(metrics.log_loss(val_y, pred_val_y))\n",
    "print(\"Mean cv score : \", np.mean(cv_scores))\n",
    "pred_full_test = pred_full_test / 5.\n",
    "\n",
    "# add the predictions as new features #\n",
    "train_df[\"nb_cvec_char_0\"] = pred_train[:,0]\n",
    "train_df[\"nb_cvec_char_1\"] = pred_train[:,1]\n",
    "train_df[\"nb_cvec_char_2\"] = pred_train[:,2]\n",
    "train_df[\"nb_cvec_char_3\"] = pred_train[:,3]\n",
    "train_df[\"nb_cvec_char_4\"] = pred_train[:,4]\n",
    "\n",
    "\n",
    "test_df[\"nb_cvec_char_0\"] = pred_full_test[:,0]\n",
    "test_df[\"nb_cvec_char_1\"] = pred_full_test[:,1]\n",
    "test_df[\"nb_cvec_char_2\"] = pred_full_test[:,2]\n",
    "test_df[\"nb_cvec_char_3\"] = pred_full_test[:,3]\n",
    "test_df[\"nb_cvec_char_4\"] = pred_full_test[:,4]\n"
   ]
  },
  {
   "cell_type": "code",
   "execution_count": 74,
   "metadata": {
    "colab": {
     "background_save": true
    },
    "id": "oU8U27N0FsZ0",
    "outputId": "eea8b39f-28cc-4e7d-e2d6-5ae37d056ee2"
   },
   "outputs": [
    {
     "name": "stderr",
     "output_type": "stream",
     "text": [
      "/home/yjunwoo14/anaconda3/lib/python3.8/site-packages/sklearn/calibration.py:381: RuntimeWarning: invalid value encountered in true_divide\n",
      "  proba /= np.sum(proba, axis=1)[:, np.newaxis]\n",
      "/home/yjunwoo14/anaconda3/lib/python3.8/site-packages/sklearn/calibration.py:381: RuntimeWarning: invalid value encountered in true_divide\n",
      "  proba /= np.sum(proba, axis=1)[:, np.newaxis]\n",
      "/home/yjunwoo14/anaconda3/lib/python3.8/site-packages/sklearn/calibration.py:381: RuntimeWarning: invalid value encountered in true_divide\n",
      "  proba /= np.sum(proba, axis=1)[:, np.newaxis]\n",
      "/home/yjunwoo14/anaconda3/lib/python3.8/site-packages/sklearn/calibration.py:381: RuntimeWarning: invalid value encountered in true_divide\n",
      "  proba /= np.sum(proba, axis=1)[:, np.newaxis]\n",
      "/home/yjunwoo14/anaconda3/lib/python3.8/site-packages/sklearn/calibration.py:381: RuntimeWarning: invalid value encountered in true_divide\n",
      "  proba /= np.sum(proba, axis=1)[:, np.newaxis]\n",
      "/home/yjunwoo14/anaconda3/lib/python3.8/site-packages/sklearn/calibration.py:381: RuntimeWarning: invalid value encountered in true_divide\n",
      "  proba /= np.sum(proba, axis=1)[:, np.newaxis]\n",
      "/home/yjunwoo14/anaconda3/lib/python3.8/site-packages/sklearn/calibration.py:381: RuntimeWarning: invalid value encountered in true_divide\n",
      "  proba /= np.sum(proba, axis=1)[:, np.newaxis]\n",
      "/home/yjunwoo14/anaconda3/lib/python3.8/site-packages/sklearn/calibration.py:381: RuntimeWarning: invalid value encountered in true_divide\n",
      "  proba /= np.sum(proba, axis=1)[:, np.newaxis]\n",
      "/home/yjunwoo14/anaconda3/lib/python3.8/site-packages/sklearn/calibration.py:381: RuntimeWarning: invalid value encountered in true_divide\n",
      "  proba /= np.sum(proba, axis=1)[:, np.newaxis]\n",
      "/home/yjunwoo14/anaconda3/lib/python3.8/site-packages/sklearn/calibration.py:381: RuntimeWarning: invalid value encountered in true_divide\n",
      "  proba /= np.sum(proba, axis=1)[:, np.newaxis]\n",
      "/home/yjunwoo14/anaconda3/lib/python3.8/site-packages/sklearn/calibration.py:381: RuntimeWarning: invalid value encountered in true_divide\n",
      "  proba /= np.sum(proba, axis=1)[:, np.newaxis]\n",
      "/home/yjunwoo14/anaconda3/lib/python3.8/site-packages/sklearn/calibration.py:381: RuntimeWarning: invalid value encountered in true_divide\n",
      "  proba /= np.sum(proba, axis=1)[:, np.newaxis]\n",
      "/home/yjunwoo14/anaconda3/lib/python3.8/site-packages/sklearn/calibration.py:381: RuntimeWarning: invalid value encountered in true_divide\n",
      "  proba /= np.sum(proba, axis=1)[:, np.newaxis]\n",
      "/home/yjunwoo14/anaconda3/lib/python3.8/site-packages/sklearn/calibration.py:381: RuntimeWarning: invalid value encountered in true_divide\n",
      "  proba /= np.sum(proba, axis=1)[:, np.newaxis]\n",
      "/home/yjunwoo14/anaconda3/lib/python3.8/site-packages/sklearn/calibration.py:381: RuntimeWarning: invalid value encountered in true_divide\n",
      "  proba /= np.sum(proba, axis=1)[:, np.newaxis]\n",
      "/home/yjunwoo14/anaconda3/lib/python3.8/site-packages/sklearn/calibration.py:381: RuntimeWarning: invalid value encountered in true_divide\n",
      "  proba /= np.sum(proba, axis=1)[:, np.newaxis]\n",
      "/home/yjunwoo14/anaconda3/lib/python3.8/site-packages/sklearn/calibration.py:381: RuntimeWarning: invalid value encountered in true_divide\n",
      "  proba /= np.sum(proba, axis=1)[:, np.newaxis]\n",
      "/home/yjunwoo14/anaconda3/lib/python3.8/site-packages/sklearn/calibration.py:381: RuntimeWarning: invalid value encountered in true_divide\n",
      "  proba /= np.sum(proba, axis=1)[:, np.newaxis]\n",
      "/home/yjunwoo14/anaconda3/lib/python3.8/site-packages/sklearn/calibration.py:381: RuntimeWarning: invalid value encountered in true_divide\n",
      "  proba /= np.sum(proba, axis=1)[:, np.newaxis]\n",
      "/home/yjunwoo14/anaconda3/lib/python3.8/site-packages/sklearn/calibration.py:381: RuntimeWarning: invalid value encountered in true_divide\n",
      "  proba /= np.sum(proba, axis=1)[:, np.newaxis]\n",
      "/home/yjunwoo14/anaconda3/lib/python3.8/site-packages/sklearn/calibration.py:381: RuntimeWarning: invalid value encountered in true_divide\n",
      "  proba /= np.sum(proba, axis=1)[:, np.newaxis]\n",
      "/home/yjunwoo14/anaconda3/lib/python3.8/site-packages/sklearn/calibration.py:381: RuntimeWarning: invalid value encountered in true_divide\n",
      "  proba /= np.sum(proba, axis=1)[:, np.newaxis]\n",
      "/home/yjunwoo14/anaconda3/lib/python3.8/site-packages/sklearn/calibration.py:381: RuntimeWarning: invalid value encountered in true_divide\n",
      "  proba /= np.sum(proba, axis=1)[:, np.newaxis]\n",
      "/home/yjunwoo14/anaconda3/lib/python3.8/site-packages/sklearn/calibration.py:381: RuntimeWarning: invalid value encountered in true_divide\n",
      "  proba /= np.sum(proba, axis=1)[:, np.newaxis]\n",
      "/home/yjunwoo14/anaconda3/lib/python3.8/site-packages/sklearn/calibration.py:381: RuntimeWarning: invalid value encountered in true_divide\n",
      "  proba /= np.sum(proba, axis=1)[:, np.newaxis]\n",
      "/home/yjunwoo14/anaconda3/lib/python3.8/site-packages/sklearn/calibration.py:381: RuntimeWarning: invalid value encountered in true_divide\n",
      "  proba /= np.sum(proba, axis=1)[:, np.newaxis]\n",
      "/home/yjunwoo14/anaconda3/lib/python3.8/site-packages/sklearn/calibration.py:381: RuntimeWarning: invalid value encountered in true_divide\n",
      "  proba /= np.sum(proba, axis=1)[:, np.newaxis]\n",
      "/home/yjunwoo14/anaconda3/lib/python3.8/site-packages/sklearn/calibration.py:381: RuntimeWarning: invalid value encountered in true_divide\n",
      "  proba /= np.sum(proba, axis=1)[:, np.newaxis]\n",
      "/home/yjunwoo14/anaconda3/lib/python3.8/site-packages/sklearn/calibration.py:381: RuntimeWarning: invalid value encountered in true_divide\n",
      "  proba /= np.sum(proba, axis=1)[:, np.newaxis]\n",
      "/home/yjunwoo14/anaconda3/lib/python3.8/site-packages/sklearn/calibration.py:381: RuntimeWarning: invalid value encountered in true_divide\n",
      "  proba /= np.sum(proba, axis=1)[:, np.newaxis]\n",
      "/home/yjunwoo14/anaconda3/lib/python3.8/site-packages/sklearn/calibration.py:381: RuntimeWarning: invalid value encountered in true_divide\n",
      "  proba /= np.sum(proba, axis=1)[:, np.newaxis]\n",
      "/home/yjunwoo14/anaconda3/lib/python3.8/site-packages/sklearn/calibration.py:381: RuntimeWarning: invalid value encountered in true_divide\n",
      "  proba /= np.sum(proba, axis=1)[:, np.newaxis]\n",
      "/home/yjunwoo14/anaconda3/lib/python3.8/site-packages/sklearn/calibration.py:381: RuntimeWarning: invalid value encountered in true_divide\n",
      "  proba /= np.sum(proba, axis=1)[:, np.newaxis]\n",
      "/home/yjunwoo14/anaconda3/lib/python3.8/site-packages/sklearn/calibration.py:381: RuntimeWarning: invalid value encountered in true_divide\n",
      "  proba /= np.sum(proba, axis=1)[:, np.newaxis]\n",
      "/home/yjunwoo14/anaconda3/lib/python3.8/site-packages/sklearn/calibration.py:381: RuntimeWarning: invalid value encountered in true_divide\n",
      "  proba /= np.sum(proba, axis=1)[:, np.newaxis]\n",
      "/home/yjunwoo14/anaconda3/lib/python3.8/site-packages/sklearn/calibration.py:381: RuntimeWarning: invalid value encountered in true_divide\n",
      "  proba /= np.sum(proba, axis=1)[:, np.newaxis]\n",
      "/home/yjunwoo14/anaconda3/lib/python3.8/site-packages/sklearn/calibration.py:381: RuntimeWarning: invalid value encountered in true_divide\n",
      "  proba /= np.sum(proba, axis=1)[:, np.newaxis]\n",
      "/home/yjunwoo14/anaconda3/lib/python3.8/site-packages/sklearn/calibration.py:381: RuntimeWarning: invalid value encountered in true_divide\n",
      "  proba /= np.sum(proba, axis=1)[:, np.newaxis]\n",
      "/home/yjunwoo14/anaconda3/lib/python3.8/site-packages/sklearn/calibration.py:381: RuntimeWarning: invalid value encountered in true_divide\n",
      "  proba /= np.sum(proba, axis=1)[:, np.newaxis]\n",
      "/home/yjunwoo14/anaconda3/lib/python3.8/site-packages/sklearn/calibration.py:381: RuntimeWarning: invalid value encountered in true_divide\n",
      "  proba /= np.sum(proba, axis=1)[:, np.newaxis]\n",
      "/home/yjunwoo14/anaconda3/lib/python3.8/site-packages/sklearn/calibration.py:381: RuntimeWarning: invalid value encountered in true_divide\n",
      "  proba /= np.sum(proba, axis=1)[:, np.newaxis]\n"
     ]
    },
    {
     "name": "stdout",
     "output_type": "stream",
     "text": [
      "Mean cv score :  0.7269403269768862\n"
     ]
    },
    {
     "name": "stderr",
     "output_type": "stream",
     "text": [
      "/home/yjunwoo14/anaconda3/lib/python3.8/site-packages/sklearn/calibration.py:381: RuntimeWarning: invalid value encountered in true_divide\n",
      "  proba /= np.sum(proba, axis=1)[:, np.newaxis]\n"
     ]
    }
   ],
   "source": [
    "cv_scores = []\n",
    "pred_full_test = 0\n",
    "pred_train = np.zeros([train_df.shape[0], 5])\n",
    "kf = model_selection.KFold(n_splits=5, shuffle=True, random_state=2017)\n",
    "for dev_index, val_index in kf.split(train_X):\n",
    "    dev_X, val_X = train_tfidf[dev_index], train_tfidf[val_index]\n",
    "    dev_y, val_y = train_y[dev_index], train_y[val_index]\n",
    "    pred_val_y, pred_test_y, model = runBER(dev_X, dev_y, val_X, val_y, test_tfidf)\n",
    "    pred_full_test = pred_full_test + pred_test_y\n",
    "    pred_train[val_index,:] = pred_val_y\n",
    "    cv_scores.append(metrics.log_loss(val_y, pred_val_y))\n",
    "print(\"Mean cv score : \", np.mean(cv_scores))\n",
    "pred_full_test = pred_full_test / 5.\n",
    "\n",
    "# add the predictions as new features #\n",
    "train_df[\"ber_cvec_char_0\"] = pred_train[:,0]\n",
    "train_df[\"ber_cvec_char_1\"] = pred_train[:,1]\n",
    "train_df[\"ber_cvec_char_2\"] = pred_train[:,2]\n",
    "train_df[\"ber_cvec_char_3\"] = pred_train[:,3]\n",
    "train_df[\"ber_cvec_char_4\"] = pred_train[:,4]\n",
    "\n",
    "\n",
    "test_df[\"ber_cvec_char_0\"] = pred_full_test[:,0]\n",
    "test_df[\"ber_cvec_char_1\"] = pred_full_test[:,1]\n",
    "test_df[\"ber_cvec_char_2\"] = pred_full_test[:,2]\n",
    "test_df[\"ber_cvec_char_3\"] = pred_full_test[:,3]\n",
    "test_df[\"ber_cvec_char_4\"] = pred_full_test[:,4]"
   ]
  },
  {
   "cell_type": "code",
   "execution_count": 75,
   "metadata": {},
   "outputs": [
    {
     "name": "stdout",
     "output_type": "stream",
     "text": [
      "cv scores :  [0.5885048174337305]\n"
     ]
    }
   ],
   "source": [
    "cv_scores = []\n",
    "pred_full_test = 0\n",
    "pred_train = np.zeros([train_df.shape[0], 5])\n",
    "\n",
    "kf = model_selection.KFold(n_splits=5, shuffle=True, random_state=2017)\n",
    "for dev_index, val_index in kf.split(train_X):\n",
    "    dev_X, val_X = train_tfidf[dev_index], train_tfidf[val_index]\n",
    "    dev_y, val_y = train_y[dev_index], train_y[val_index]\n",
    "    pred_val_y, pred_test_y, model = runSGD(dev_X, dev_y, val_X, val_y, test_tfidf)\n",
    "    pred_full_test = pred_full_test + pred_test_y\n",
    "    pred_train[val_index,:] = pred_val_y\n",
    "    cv_scores.append(metrics.log_loss(val_y, pred_val_y))\n",
    "    break\n",
    "print(\"cv scores : \", cv_scores)\n",
    "pred_full_test /= 5\n",
    "\n",
    "train_df[\"em_cvec_char_0\"] = pred_train[:,0]\n",
    "train_df[\"em_cvec_char_1\"] = pred_train[:,1]\n",
    "train_df[\"em_cvec_char_2\"] = pred_train[:,2]\n",
    "train_df[\"em_cvec_char_3\"] = pred_train[:,3]\n",
    "train_df[\"em_cvec_char_4\"] = pred_train[:,4]\n",
    "\n",
    "\n",
    "test_df[\"em_cvec_char_0\"] = pred_full_test[:,0]\n",
    "test_df[\"em_cvec_char_1\"] = pred_full_test[:,1]\n",
    "test_df[\"em_cvec_char_2\"] = pred_full_test[:,2]\n",
    "test_df[\"em_cvec_char_3\"] = pred_full_test[:,3]\n",
    "test_df[\"em_cvec_char_4\"] = pred_full_test[:,4]"
   ]
  },
  {
   "cell_type": "code",
   "execution_count": 76,
   "metadata": {},
   "outputs": [
    {
     "name": "stderr",
     "output_type": "stream",
     "text": [
      "/home/yjunwoo14/anaconda3/lib/python3.8/site-packages/sklearn/calibration.py:381: RuntimeWarning: invalid value encountered in true_divide\n",
      "  proba /= np.sum(proba, axis=1)[:, np.newaxis]\n",
      "/home/yjunwoo14/anaconda3/lib/python3.8/site-packages/sklearn/calibration.py:381: RuntimeWarning: invalid value encountered in true_divide\n",
      "  proba /= np.sum(proba, axis=1)[:, np.newaxis]\n",
      "/home/yjunwoo14/anaconda3/lib/python3.8/site-packages/sklearn/calibration.py:381: RuntimeWarning: invalid value encountered in true_divide\n",
      "  proba /= np.sum(proba, axis=1)[:, np.newaxis]\n"
     ]
    },
    {
     "name": "stdout",
     "output_type": "stream",
     "text": [
      "cv scores :  [0.5565386542286499]\n"
     ]
    },
    {
     "name": "stderr",
     "output_type": "stream",
     "text": [
      "/home/yjunwoo14/anaconda3/lib/python3.8/site-packages/sklearn/calibration.py:381: RuntimeWarning: invalid value encountered in true_divide\n",
      "  proba /= np.sum(proba, axis=1)[:, np.newaxis]\n"
     ]
    }
   ],
   "source": [
    "\n",
    "cv_scores = []\n",
    "pred_full_test = 0\n",
    "pred_train = np.zeros([train_df.shape[0], 5])\n",
    "\n",
    "kf = model_selection.KFold(n_splits=5, shuffle=True, random_state=2017)\n",
    "for dev_index, val_index in kf.split(train_X):\n",
    "    dev_X, val_X = train_tfidf[dev_index], train_tfidf[val_index]\n",
    "    dev_y, val_y = train_y[dev_index], train_y[val_index]\n",
    "    pred_val_y, pred_test_y, model = runPAS(dev_X, dev_y, val_X, val_y, test_tfidf)\n",
    "    pred_full_test = pred_full_test + pred_test_y\n",
    "    pred_train[val_index,:] = pred_val_y\n",
    "    cv_scores.append(metrics.log_loss(val_y, pred_val_y))\n",
    "    break\n",
    "print(\"cv scores : \", cv_scores)\n",
    "pred_full_test /= 5\n",
    "\n",
    "train_df[\"pas_cvec_char_0\"] = pred_train[:,0]\n",
    "train_df[\"pas_cvec_char_1\"] = pred_train[:,1]\n",
    "train_df[\"pas_cvec_char_2\"] = pred_train[:,2]\n",
    "train_df[\"pas_cvec_char_3\"] = pred_train[:,3]\n",
    "train_df[\"pas_cvec_char_4\"] = pred_train[:,4]\n",
    "\n",
    "\n",
    "test_df[\"pas_cvec_char_0\"] = pred_full_test[:,0]\n",
    "test_df[\"pas_cvec_char_1\"] = pred_full_test[:,1]\n",
    "test_df[\"pas_cvec_char_2\"] = pred_full_test[:,2]\n",
    "test_df[\"pas_cvec_char_3\"] = pred_full_test[:,3]\n",
    "test_df[\"pas_cvec_char_4\"] = pred_full_test[:,4]"
   ]
  },
  {
   "cell_type": "markdown",
   "metadata": {
    "id": "iihOlqH5FsZ2"
   },
   "source": [
    "이번엔 tfidf벡터에 character, word단위로 토큰화 하였습니다."
   ]
  },
  {
   "cell_type": "code",
   "execution_count": 92,
   "metadata": {
    "colab": {
     "background_save": true
    },
    "id": "hmY-pgl8FsZ2",
    "outputId": "ec3412db-a528-4c0c-fb26-9827ea956553"
   },
   "outputs": [],
   "source": [
    "### Fit transform the tfidf vectorizer ###\n",
    "tfidf_vec = TfidfVectorizer(ngram_range=(1,5), analyzer='char')\n",
    "full_tfidf = tfidf_vec.fit_transform(train_df['text'].values.tolist() + test_df['text'].values.tolist())\n",
    "train_tfidf = tfidf_vec.transform(train_df['text'].values.tolist())\n",
    "test_tfidf = tfidf_vec.transform(test_df['text'].values.tolist())\n"
   ]
  },
  {
   "cell_type": "code",
   "execution_count": 93,
   "metadata": {
    "id": "r5BT4ODnPgAM"
   },
   "outputs": [
    {
     "name": "stdout",
     "output_type": "stream",
     "text": [
      "Mean cv score :  0.5531638992409433\n"
     ]
    }
   ],
   "source": [
    "cv_scores = []\n",
    "pred_full_test = 0\n",
    "pred_train = np.zeros([train_df.shape[0], 5])\n",
    "kf = model_selection.KFold(n_splits=5, shuffle=True, random_state=2017)\n",
    "for dev_index, val_index in kf.split(train_X):\n",
    "    dev_X, val_X = train_tfidf[dev_index], train_tfidf[val_index]\n",
    "    dev_y, val_y = train_y[dev_index], train_y[val_index]\n",
    "    pred_val_y, pred_test_y, model = runMNB(dev_X, dev_y, val_X, val_y, test_tfidf)\n",
    "    pred_full_test = pred_full_test + pred_test_y\n",
    "    pred_train[val_index,:] = pred_val_y\n",
    "    cv_scores.append(metrics.log_loss(val_y, pred_val_y))\n",
    "print(\"Mean cv score : \", np.mean(cv_scores))\n",
    "pred_full_test = pred_full_test / 5.\n",
    "\n",
    "# add the predictions as new features #\n",
    "train_df[\"nb_tfidf_char_0\"] = pred_train[:,0]\n",
    "train_df[\"nb_tfidf_char_1\"] = pred_train[:,1]\n",
    "train_df[\"nb_tfidf_char_2\"] = pred_train[:,2]\n",
    "train_df[\"nb_tfidf_char_3\"] = pred_train[:,3]\n",
    "train_df[\"nb_tfidf_char_4\"] = pred_train[:,4]\n",
    "\n",
    "\n",
    "test_df[\"nb_tfidf_char_0\"] = pred_full_test[:,0]\n",
    "test_df[\"nb_tfidf_char_1\"] = pred_full_test[:,1]\n",
    "test_df[\"nb_tfidf_char_2\"] = pred_full_test[:,2]\n",
    "test_df[\"nb_tfidf_char_3\"] = pred_full_test[:,3]\n",
    "test_df[\"nb_tfidf_char_4\"] = pred_full_test[:,4]"
   ]
  },
  {
   "cell_type": "code",
   "execution_count": 94,
   "metadata": {
    "colab": {
     "background_save": true
    },
    "id": "jXB_ytKiFsZ5",
    "outputId": "e0868d23-afa4-4661-8da9-1c13176819db"
   },
   "outputs": [
    {
     "name": "stderr",
     "output_type": "stream",
     "text": [
      "/home/yjunwoo14/anaconda3/lib/python3.8/site-packages/sklearn/calibration.py:381: RuntimeWarning: invalid value encountered in true_divide\n",
      "  proba /= np.sum(proba, axis=1)[:, np.newaxis]\n",
      "/home/yjunwoo14/anaconda3/lib/python3.8/site-packages/sklearn/calibration.py:381: RuntimeWarning: invalid value encountered in true_divide\n",
      "  proba /= np.sum(proba, axis=1)[:, np.newaxis]\n",
      "/home/yjunwoo14/anaconda3/lib/python3.8/site-packages/sklearn/calibration.py:381: RuntimeWarning: invalid value encountered in true_divide\n",
      "  proba /= np.sum(proba, axis=1)[:, np.newaxis]\n",
      "/home/yjunwoo14/anaconda3/lib/python3.8/site-packages/sklearn/calibration.py:381: RuntimeWarning: invalid value encountered in true_divide\n",
      "  proba /= np.sum(proba, axis=1)[:, np.newaxis]\n",
      "/home/yjunwoo14/anaconda3/lib/python3.8/site-packages/sklearn/calibration.py:381: RuntimeWarning: invalid value encountered in true_divide\n",
      "  proba /= np.sum(proba, axis=1)[:, np.newaxis]\n",
      "/home/yjunwoo14/anaconda3/lib/python3.8/site-packages/sklearn/calibration.py:381: RuntimeWarning: invalid value encountered in true_divide\n",
      "  proba /= np.sum(proba, axis=1)[:, np.newaxis]\n",
      "/home/yjunwoo14/anaconda3/lib/python3.8/site-packages/sklearn/calibration.py:381: RuntimeWarning: invalid value encountered in true_divide\n",
      "  proba /= np.sum(proba, axis=1)[:, np.newaxis]\n",
      "/home/yjunwoo14/anaconda3/lib/python3.8/site-packages/sklearn/calibration.py:381: RuntimeWarning: invalid value encountered in true_divide\n",
      "  proba /= np.sum(proba, axis=1)[:, np.newaxis]\n",
      "/home/yjunwoo14/anaconda3/lib/python3.8/site-packages/sklearn/calibration.py:381: RuntimeWarning: invalid value encountered in true_divide\n",
      "  proba /= np.sum(proba, axis=1)[:, np.newaxis]\n",
      "/home/yjunwoo14/anaconda3/lib/python3.8/site-packages/sklearn/calibration.py:381: RuntimeWarning: invalid value encountered in true_divide\n",
      "  proba /= np.sum(proba, axis=1)[:, np.newaxis]\n",
      "/home/yjunwoo14/anaconda3/lib/python3.8/site-packages/sklearn/calibration.py:381: RuntimeWarning: invalid value encountered in true_divide\n",
      "  proba /= np.sum(proba, axis=1)[:, np.newaxis]\n",
      "/home/yjunwoo14/anaconda3/lib/python3.8/site-packages/sklearn/calibration.py:381: RuntimeWarning: invalid value encountered in true_divide\n",
      "  proba /= np.sum(proba, axis=1)[:, np.newaxis]\n",
      "/home/yjunwoo14/anaconda3/lib/python3.8/site-packages/sklearn/calibration.py:381: RuntimeWarning: invalid value encountered in true_divide\n",
      "  proba /= np.sum(proba, axis=1)[:, np.newaxis]\n",
      "/home/yjunwoo14/anaconda3/lib/python3.8/site-packages/sklearn/calibration.py:381: RuntimeWarning: invalid value encountered in true_divide\n",
      "  proba /= np.sum(proba, axis=1)[:, np.newaxis]\n",
      "/home/yjunwoo14/anaconda3/lib/python3.8/site-packages/sklearn/calibration.py:381: RuntimeWarning: invalid value encountered in true_divide\n",
      "  proba /= np.sum(proba, axis=1)[:, np.newaxis]\n",
      "/home/yjunwoo14/anaconda3/lib/python3.8/site-packages/sklearn/calibration.py:381: RuntimeWarning: invalid value encountered in true_divide\n",
      "  proba /= np.sum(proba, axis=1)[:, np.newaxis]\n",
      "/home/yjunwoo14/anaconda3/lib/python3.8/site-packages/sklearn/calibration.py:381: RuntimeWarning: invalid value encountered in true_divide\n",
      "  proba /= np.sum(proba, axis=1)[:, np.newaxis]\n",
      "/home/yjunwoo14/anaconda3/lib/python3.8/site-packages/sklearn/calibration.py:381: RuntimeWarning: invalid value encountered in true_divide\n",
      "  proba /= np.sum(proba, axis=1)[:, np.newaxis]\n",
      "/home/yjunwoo14/anaconda3/lib/python3.8/site-packages/sklearn/calibration.py:381: RuntimeWarning: invalid value encountered in true_divide\n",
      "  proba /= np.sum(proba, axis=1)[:, np.newaxis]\n",
      "/home/yjunwoo14/anaconda3/lib/python3.8/site-packages/sklearn/calibration.py:381: RuntimeWarning: invalid value encountered in true_divide\n",
      "  proba /= np.sum(proba, axis=1)[:, np.newaxis]\n",
      "/home/yjunwoo14/anaconda3/lib/python3.8/site-packages/sklearn/calibration.py:381: RuntimeWarning: invalid value encountered in true_divide\n",
      "  proba /= np.sum(proba, axis=1)[:, np.newaxis]\n",
      "/home/yjunwoo14/anaconda3/lib/python3.8/site-packages/sklearn/calibration.py:381: RuntimeWarning: invalid value encountered in true_divide\n",
      "  proba /= np.sum(proba, axis=1)[:, np.newaxis]\n",
      "/home/yjunwoo14/anaconda3/lib/python3.8/site-packages/sklearn/calibration.py:381: RuntimeWarning: invalid value encountered in true_divide\n",
      "  proba /= np.sum(proba, axis=1)[:, np.newaxis]\n",
      "/home/yjunwoo14/anaconda3/lib/python3.8/site-packages/sklearn/calibration.py:381: RuntimeWarning: invalid value encountered in true_divide\n",
      "  proba /= np.sum(proba, axis=1)[:, np.newaxis]\n",
      "/home/yjunwoo14/anaconda3/lib/python3.8/site-packages/sklearn/calibration.py:381: RuntimeWarning: invalid value encountered in true_divide\n",
      "  proba /= np.sum(proba, axis=1)[:, np.newaxis]\n",
      "/home/yjunwoo14/anaconda3/lib/python3.8/site-packages/sklearn/calibration.py:381: RuntimeWarning: invalid value encountered in true_divide\n",
      "  proba /= np.sum(proba, axis=1)[:, np.newaxis]\n",
      "/home/yjunwoo14/anaconda3/lib/python3.8/site-packages/sklearn/calibration.py:381: RuntimeWarning: invalid value encountered in true_divide\n",
      "  proba /= np.sum(proba, axis=1)[:, np.newaxis]\n",
      "/home/yjunwoo14/anaconda3/lib/python3.8/site-packages/sklearn/calibration.py:381: RuntimeWarning: invalid value encountered in true_divide\n",
      "  proba /= np.sum(proba, axis=1)[:, np.newaxis]\n",
      "/home/yjunwoo14/anaconda3/lib/python3.8/site-packages/sklearn/calibration.py:381: RuntimeWarning: invalid value encountered in true_divide\n",
      "  proba /= np.sum(proba, axis=1)[:, np.newaxis]\n",
      "/home/yjunwoo14/anaconda3/lib/python3.8/site-packages/sklearn/calibration.py:381: RuntimeWarning: invalid value encountered in true_divide\n",
      "  proba /= np.sum(proba, axis=1)[:, np.newaxis]\n",
      "/home/yjunwoo14/anaconda3/lib/python3.8/site-packages/sklearn/calibration.py:381: RuntimeWarning: invalid value encountered in true_divide\n",
      "  proba /= np.sum(proba, axis=1)[:, np.newaxis]\n",
      "/home/yjunwoo14/anaconda3/lib/python3.8/site-packages/sklearn/calibration.py:381: RuntimeWarning: invalid value encountered in true_divide\n",
      "  proba /= np.sum(proba, axis=1)[:, np.newaxis]\n",
      "/home/yjunwoo14/anaconda3/lib/python3.8/site-packages/sklearn/calibration.py:381: RuntimeWarning: invalid value encountered in true_divide\n",
      "  proba /= np.sum(proba, axis=1)[:, np.newaxis]\n",
      "/home/yjunwoo14/anaconda3/lib/python3.8/site-packages/sklearn/calibration.py:381: RuntimeWarning: invalid value encountered in true_divide\n",
      "  proba /= np.sum(proba, axis=1)[:, np.newaxis]\n",
      "/home/yjunwoo14/anaconda3/lib/python3.8/site-packages/sklearn/calibration.py:381: RuntimeWarning: invalid value encountered in true_divide\n",
      "  proba /= np.sum(proba, axis=1)[:, np.newaxis]\n",
      "/home/yjunwoo14/anaconda3/lib/python3.8/site-packages/sklearn/calibration.py:381: RuntimeWarning: invalid value encountered in true_divide\n",
      "  proba /= np.sum(proba, axis=1)[:, np.newaxis]\n",
      "/home/yjunwoo14/anaconda3/lib/python3.8/site-packages/sklearn/calibration.py:381: RuntimeWarning: invalid value encountered in true_divide\n",
      "  proba /= np.sum(proba, axis=1)[:, np.newaxis]\n",
      "/home/yjunwoo14/anaconda3/lib/python3.8/site-packages/sklearn/calibration.py:381: RuntimeWarning: invalid value encountered in true_divide\n",
      "  proba /= np.sum(proba, axis=1)[:, np.newaxis]\n",
      "/home/yjunwoo14/anaconda3/lib/python3.8/site-packages/sklearn/calibration.py:381: RuntimeWarning: invalid value encountered in true_divide\n",
      "  proba /= np.sum(proba, axis=1)[:, np.newaxis]\n",
      "/home/yjunwoo14/anaconda3/lib/python3.8/site-packages/sklearn/calibration.py:381: RuntimeWarning: invalid value encountered in true_divide\n",
      "  proba /= np.sum(proba, axis=1)[:, np.newaxis]\n",
      "/home/yjunwoo14/anaconda3/lib/python3.8/site-packages/sklearn/calibration.py:381: RuntimeWarning: invalid value encountered in true_divide\n",
      "  proba /= np.sum(proba, axis=1)[:, np.newaxis]\n",
      "/home/yjunwoo14/anaconda3/lib/python3.8/site-packages/sklearn/calibration.py:381: RuntimeWarning: invalid value encountered in true_divide\n",
      "  proba /= np.sum(proba, axis=1)[:, np.newaxis]\n"
     ]
    },
    {
     "name": "stdout",
     "output_type": "stream",
     "text": [
      "Mean cv score :  0.8815264878801748\n"
     ]
    },
    {
     "name": "stderr",
     "output_type": "stream",
     "text": [
      "/home/yjunwoo14/anaconda3/lib/python3.8/site-packages/sklearn/calibration.py:381: RuntimeWarning: invalid value encountered in true_divide\n",
      "  proba /= np.sum(proba, axis=1)[:, np.newaxis]\n"
     ]
    }
   ],
   "source": [
    "cv_scores = []\n",
    "pred_full_test = 0\n",
    "pred_train = np.zeros([train_df.shape[0], 5])\n",
    "kf = model_selection.KFold(n_splits=5, shuffle=True, random_state=2017)\n",
    "for dev_index, val_index in kf.split(train_X):\n",
    "    dev_X, val_X = train_tfidf[dev_index], train_tfidf[val_index]\n",
    "    dev_y, val_y = train_y[dev_index], train_y[val_index]\n",
    "    pred_val_y, pred_test_y, model = runBER(dev_X, dev_y, val_X, val_y, test_tfidf)\n",
    "    pred_full_test = pred_full_test + pred_test_y\n",
    "    pred_train[val_index,:] = pred_val_y\n",
    "    cv_scores.append(metrics.log_loss(val_y, pred_val_y))\n",
    "print(\"Mean cv score : \", np.mean(cv_scores))\n",
    "pred_full_test = pred_full_test / 5.\n",
    "\n",
    "# add the predictions as new features #\n",
    "train_df[\"ber_tfidf_char_0\"] = pred_train[:,0]\n",
    "train_df[\"ber_tfidf_char_1\"] = pred_train[:,1]\n",
    "train_df[\"ber_tfidf_char_2\"] = pred_train[:,2]\n",
    "train_df[\"ber_tfidf_char_3\"] = pred_train[:,3]\n",
    "train_df[\"ber_tfidf_char_4\"] = pred_train[:,4]\n",
    "\n",
    "test_df[\"ber_tfidf_char_0\"] = pred_full_test[:,0]\n",
    "test_df[\"ber_tfidf_char_1\"] = pred_full_test[:,1]\n",
    "test_df[\"ber_tfidf_char_2\"] = pred_full_test[:,2]\n",
    "test_df[\"ber_tfidf_char_3\"] = pred_full_test[:,3]\n",
    "test_df[\"ber_tfidf_char_4\"] = pred_full_test[:,4]"
   ]
  },
  {
   "cell_type": "code",
   "execution_count": 95,
   "metadata": {},
   "outputs": [
    {
     "name": "stdout",
     "output_type": "stream",
     "text": [
      "cv scores :  [0.5838937059936298]\n"
     ]
    }
   ],
   "source": [
    "cv_scores = []\n",
    "pred_full_test = 0\n",
    "pred_train = np.zeros([train_df.shape[0], 5])\n",
    "\n",
    "kf = model_selection.KFold(n_splits=5, shuffle=True, random_state=2017)\n",
    "for dev_index, val_index in kf.split(train_X):\n",
    "    dev_X, val_X = train_tfidf[dev_index], train_tfidf[val_index]\n",
    "    dev_y, val_y = train_y[dev_index], train_y[val_index]\n",
    "    pred_val_y, pred_test_y, model = runSGD(dev_X, dev_y, val_X, val_y, test_tfidf)\n",
    "    pred_full_test = pred_full_test + pred_test_y\n",
    "    pred_train[val_index,:] = pred_val_y\n",
    "    cv_scores.append(metrics.log_loss(val_y, pred_val_y))\n",
    "    break\n",
    "print(\"cv scores : \", cv_scores)\n",
    "pred_full_test /= 5\n",
    "\n",
    "train_df[\"em_tfidf_char_0\"] = pred_train[:,0]\n",
    "train_df[\"em_tfidf_char_1\"] = pred_train[:,1]\n",
    "train_df[\"em_tfidf_char_2\"] = pred_train[:,2]\n",
    "train_df[\"em_tfidf_char_3\"] = pred_train[:,3]\n",
    "train_df[\"em_tfidf_char_4\"] = pred_train[:,4]\n",
    "\n",
    "\n",
    "test_df[\"em_tfidf_char_0\"] = pred_full_test[:,0]\n",
    "test_df[\"em_tfidf_char_1\"] = pred_full_test[:,1]\n",
    "test_df[\"em_tfidf_char_2\"] = pred_full_test[:,2]\n",
    "test_df[\"em_tfidf_char_3\"] = pred_full_test[:,3]\n",
    "test_df[\"em_tfidf_char_4\"] = pred_full_test[:,4]"
   ]
  },
  {
   "cell_type": "code",
   "execution_count": 96,
   "metadata": {},
   "outputs": [
    {
     "name": "stdout",
     "output_type": "stream",
     "text": [
      "cv scores :  [0.5402619663712201]\n"
     ]
    }
   ],
   "source": [
    "cv_scores = []\n",
    "pred_full_test = 0\n",
    "pred_train = np.zeros([train_df.shape[0], 5])\n",
    "\n",
    "kf = model_selection.KFold(n_splits=5, shuffle=True, random_state=2017)\n",
    "for dev_index, val_index in kf.split(train_X):\n",
    "    dev_X, val_X = train_tfidf[dev_index], train_tfidf[val_index]\n",
    "    dev_y, val_y = train_y[dev_index], train_y[val_index]\n",
    "    pred_val_y, pred_test_y, model = runPAS(dev_X, dev_y, val_X, val_y, test_tfidf)\n",
    "    pred_full_test = pred_full_test + pred_test_y\n",
    "    pred_train[val_index,:] = pred_val_y\n",
    "    cv_scores.append(metrics.log_loss(val_y, pred_val_y))\n",
    "    break\n",
    "print(\"cv scores : \", cv_scores)\n",
    "pred_full_test /= 5\n",
    "\n",
    "train_df[\"pas_tfidf_char_0\"] = pred_train[:,0]\n",
    "train_df[\"pas_tfidf_char_1\"] = pred_train[:,1]\n",
    "train_df[\"pas_tfidf_char_2\"] = pred_train[:,2]\n",
    "train_df[\"pas_tfidf_char_3\"] = pred_train[:,3]\n",
    "train_df[\"pas_tfidf_char_4\"] = pred_train[:,4]\n",
    "\n",
    "\n",
    "test_df[\"pas_tfidf_char_0\"] = pred_full_test[:,0]\n",
    "test_df[\"pas_tfidf_char_1\"] = pred_full_test[:,1]\n",
    "test_df[\"pas_tfidf_char_2\"] = pred_full_test[:,2]\n",
    "test_df[\"pas_tfidf_char_3\"] = pred_full_test[:,3]\n",
    "test_df[\"pas_tfidf_char_4\"] = pred_full_test[:,4]"
   ]
  },
  {
   "cell_type": "code",
   "execution_count": 97,
   "metadata": {
    "colab": {
     "background_save": true
    },
    "id": "VZjZAF-tFsZ7",
    "outputId": "1ab7fd52-5d4a-49e7-d284-f63a953a1c4a"
   },
   "outputs": [],
   "source": [
    "### Fit transform the tfidf vectorizer ###\n",
    "tfidf_vec = TfidfVectorizer(ngram_range=(1,5), analyzer='word')\n",
    "full_tfidf = tfidf_vec.fit_transform(train_df['text'].values.tolist() + test_df['text'].values.tolist())\n",
    "train_tfidf = tfidf_vec.transform(train_df['text'].values.tolist())\n",
    "test_tfidf = tfidf_vec.transform(test_df['text'].values.tolist())"
   ]
  },
  {
   "cell_type": "code",
   "execution_count": 98,
   "metadata": {},
   "outputs": [
    {
     "name": "stdout",
     "output_type": "stream",
     "text": [
      "Mean cv score :  0.6318024197153005\n"
     ]
    }
   ],
   "source": [
    "cv_scores = []\n",
    "pred_full_test = 0\n",
    "pred_train = np.zeros([train_df.shape[0], 5])\n",
    "kf = model_selection.KFold(n_splits=5, shuffle=True, random_state=2017)\n",
    "for dev_index, val_index in kf.split(train_X):\n",
    "    dev_X, val_X = train_tfidf[dev_index], train_tfidf[val_index]\n",
    "    dev_y, val_y = train_y[dev_index], train_y[val_index]\n",
    "    pred_val_y, pred_test_y, model = runMNB(dev_X, dev_y, val_X, val_y, test_tfidf)\n",
    "    pred_full_test = pred_full_test + pred_test_y\n",
    "    pred_train[val_index,:] = pred_val_y\n",
    "    cv_scores.append(metrics.log_loss(val_y, pred_val_y))\n",
    "print(\"Mean cv score : \", np.mean(cv_scores))\n",
    "pred_full_test = pred_full_test / 5.\n",
    "\n",
    "# add the predictions as new features #\n",
    "train_df[\"nb_tfidf2_char_0\"] = pred_train[:,0]\n",
    "train_df[\"nb_tfidf2_char_1\"] = pred_train[:,1]\n",
    "train_df[\"nb_tfidf2_char_2\"] = pred_train[:,2]\n",
    "train_df[\"nb_tfidf2_char_3\"] = pred_train[:,3]\n",
    "train_df[\"nb_tfidf2_char_4\"] = pred_train[:,4]\n",
    "\n",
    "\n",
    "test_df[\"nb_tfidf2_char_0\"] = pred_full_test[:,0]\n",
    "test_df[\"nb_tfidf2_char_1\"] = pred_full_test[:,1]\n",
    "test_df[\"nb_tfidf2_char_2\"] = pred_full_test[:,2]\n",
    "test_df[\"nb_tfidf2_char_3\"] = pred_full_test[:,3]\n",
    "test_df[\"nb_tfidf2_char_4\"] = pred_full_test[:,4]"
   ]
  },
  {
   "cell_type": "code",
   "execution_count": 99,
   "metadata": {
    "colab": {
     "background_save": true
    },
    "id": "f4RxKee0FsZ-",
    "outputId": "a6f546ee-770f-46e3-8c06-a2b7253c46a4"
   },
   "outputs": [
    {
     "name": "stderr",
     "output_type": "stream",
     "text": [
      "/home/yjunwoo14/anaconda3/lib/python3.8/site-packages/sklearn/calibration.py:381: RuntimeWarning: invalid value encountered in true_divide\n",
      "  proba /= np.sum(proba, axis=1)[:, np.newaxis]\n"
     ]
    },
    {
     "name": "stdout",
     "output_type": "stream",
     "text": [
      "Mean cv score :  1.0060505981770482\n"
     ]
    }
   ],
   "source": [
    "cv_scores = []\n",
    "pred_full_test = 0\n",
    "pred_train = np.zeros([train_df.shape[0], 5])\n",
    "kf = model_selection.KFold(n_splits=5, shuffle=True, random_state=2017)\n",
    "for dev_index, val_index in kf.split(train_X):\n",
    "    dev_X, val_X = train_tfidf[dev_index], train_tfidf[val_index]\n",
    "    dev_y, val_y = train_y[dev_index], train_y[val_index]\n",
    "    pred_val_y, pred_test_y, model = runBER(dev_X, dev_y, val_X, val_y, test_tfidf)\n",
    "    pred_full_test = pred_full_test + pred_test_y\n",
    "    pred_train[val_index,:] = pred_val_y\n",
    "    cv_scores.append(metrics.log_loss(val_y, pred_val_y))\n",
    "print(\"Mean cv score : \", np.mean(cv_scores))\n",
    "pred_full_test = pred_full_test / 5.\n",
    "\n",
    "# add the predictions as new features #\n",
    "train_df[\"ber_tfidf2_char_0\"] = pred_train[:,0]\n",
    "train_df[\"ber_tfidf2_char_1\"] = pred_train[:,1]\n",
    "train_df[\"ber_tfidf2_char_2\"] = pred_train[:,2]\n",
    "train_df[\"ber_tfidf2_char_3\"] = pred_train[:,3]\n",
    "train_df[\"ber_tfidf2_char_4\"] = pred_train[:,4]\n",
    "\n",
    "test_df[\"ber_tfidf2_char_0\"] = pred_full_test[:,0]\n",
    "test_df[\"ber_tfidf2_char_1\"] = pred_full_test[:,1]\n",
    "test_df[\"ber_tfidf2_char_2\"] = pred_full_test[:,2]\n",
    "test_df[\"ber_tfidf2_char_3\"] = pred_full_test[:,3]\n",
    "test_df[\"ber_tfidf2_char_4\"] = pred_full_test[:,4]"
   ]
  },
  {
   "cell_type": "code",
   "execution_count": 100,
   "metadata": {},
   "outputs": [
    {
     "name": "stdout",
     "output_type": "stream",
     "text": [
      "cv scores :  [0.8342656990766656]\n"
     ]
    }
   ],
   "source": [
    "cv_scores = []\n",
    "pred_full_test = 0\n",
    "pred_train = np.zeros([train_df.shape[0], 5])\n",
    "\n",
    "kf = model_selection.KFold(n_splits=5, shuffle=True, random_state=2017)\n",
    "for dev_index, val_index in kf.split(train_X):\n",
    "    dev_X, val_X = train_tfidf[dev_index], train_tfidf[val_index]\n",
    "    dev_y, val_y = train_y[dev_index], train_y[val_index]\n",
    "    pred_val_y, pred_test_y, model = runSGD(dev_X, dev_y, val_X, val_y, test_tfidf)\n",
    "    pred_full_test = pred_full_test + pred_test_y\n",
    "    pred_train[val_index,:] = pred_val_y\n",
    "    cv_scores.append(metrics.log_loss(val_y, pred_val_y))\n",
    "    break\n",
    "print(\"cv scores : \", cv_scores)\n",
    "pred_full_test /= 5\n",
    "\n",
    "train_df[\"em_tfidf2_char_0\"] = pred_train[:,0]\n",
    "train_df[\"em_tfidf2_char_1\"] = pred_train[:,1]\n",
    "train_df[\"em_tfidf2_char_2\"] = pred_train[:,2]\n",
    "train_df[\"em_tfidf2_char_3\"] = pred_train[:,3]\n",
    "train_df[\"em_tfidf2_char_4\"] = pred_train[:,4]\n",
    "\n",
    "\n",
    "test_df[\"em_tfidf2_char_0\"] = pred_full_test[:,0]\n",
    "test_df[\"em_tfidf2_char_1\"] = pred_full_test[:,1]\n",
    "test_df[\"em_tfidf2_char_2\"] = pred_full_test[:,2]\n",
    "test_df[\"em_tfidf2_char_3\"] = pred_full_test[:,3]\n",
    "test_df[\"em_tfidf2_char_4\"] = pred_full_test[:,4]"
   ]
  },
  {
   "cell_type": "code",
   "execution_count": 101,
   "metadata": {},
   "outputs": [
    {
     "name": "stdout",
     "output_type": "stream",
     "text": [
      "cv scores :  [0.6962527520998825]\n"
     ]
    }
   ],
   "source": [
    "cv_scores = []\n",
    "pred_full_test = 0\n",
    "pred_train = np.zeros([train_df.shape[0], 5])\n",
    "\n",
    "kf = model_selection.KFold(n_splits=5, shuffle=True, random_state=2017)\n",
    "for dev_index, val_index in kf.split(train_X):\n",
    "    dev_X, val_X = train_tfidf[dev_index], train_tfidf[val_index]\n",
    "    dev_y, val_y = train_y[dev_index], train_y[val_index]\n",
    "    pred_val_y, pred_test_y, model = runPAS(dev_X, dev_y, val_X, val_y, test_tfidf)\n",
    "    pred_full_test = pred_full_test + pred_test_y\n",
    "    pred_train[val_index,:] = pred_val_y\n",
    "    cv_scores.append(metrics.log_loss(val_y, pred_val_y))\n",
    "    break\n",
    "print(\"cv scores : \", cv_scores)\n",
    "pred_full_test /= 5\n",
    "\n",
    "train_df[\"pas_tfidf2_char_0\"] = pred_train[:,0]\n",
    "train_df[\"pas_tfidf2_char_1\"] = pred_train[:,1]\n",
    "train_df[\"pas_tfidf2_char_2\"] = pred_train[:,2]\n",
    "train_df[\"pas_tfidf2_char_3\"] = pred_train[:,3]\n",
    "train_df[\"pas_tfidf2_char_4\"] = pred_train[:,4]\n",
    "\n",
    "\n",
    "test_df[\"pas_tfidf2_char_0\"] = pred_full_test[:,0]\n",
    "test_df[\"pas_tfidf2_char_1\"] = pred_full_test[:,1]\n",
    "test_df[\"pas_tfidf2_char_2\"] = pred_full_test[:,2]\n",
    "test_df[\"pas_tfidf2_char_3\"] = pred_full_test[:,3]\n",
    "test_df[\"pas_tfidf2_char_4\"] = pred_full_test[:,4]"
   ]
  },
  {
   "cell_type": "markdown",
   "metadata": {
    "id": "7eSWDQVpFsZ_"
   },
   "source": [
    "**SVD와 Character TFIDF:**\n",
    "\n",
    "character tfidf을 사용해 svd 피쳐를 만들었습니다."
   ]
  },
  {
   "cell_type": "code",
   "execution_count": 102,
   "metadata": {
    "colab": {
     "background_save": true
    },
    "id": "KAn6ff58FsaA"
   },
   "outputs": [],
   "source": [
    "n_comp = 20\n",
    "svd_obj = TruncatedSVD(n_components=n_comp, algorithm='arpack')\n",
    "svd_obj.fit(full_tfidf)\n",
    "train_svd = pd.DataFrame(svd_obj.transform(train_tfidf))\n",
    "test_svd = pd.DataFrame(svd_obj.transform(test_tfidf))\n",
    "    \n",
    "train_svd.columns = ['svd_char_'+str(i) for i in range(n_comp)]\n",
    "test_svd.columns = ['svd_char_'+str(i) for i in range(n_comp)]\n",
    "train_df = pd.concat([train_df, train_svd], axis=1)\n",
    "test_df = pd.concat([test_df, test_svd], axis=1)\n",
    "del full_tfidf, train_tfidf, test_tfidf, train_svd, test_svd"
   ]
  },
  {
   "cell_type": "markdown",
   "metadata": {
    "id": "DC18jJMbFsaB"
   },
   "source": [
    "**Ensemble model:**\n",
    "\n",
    "여러 모델들을 앙상블 해보았습니다.\n",
    "원래는 위에서도 4가지 모델에 추가로 앙상블까지 하려했지만 계산시간이 너무 길어져 feature 1개만 만들게 되었습니다"
   ]
  },
  {
   "cell_type": "code",
   "execution_count": 103,
   "metadata": {
    "colab": {
     "background_save": true
    },
    "id": "a3vLBF_AFsaC",
    "outputId": "646b7882-cbb0-40ae-8a01-3e715eac085d"
   },
   "outputs": [
    {
     "name": "stdout",
     "output_type": "stream",
     "text": [
      "cv scores :  [0.5768279816080424]\n"
     ]
    }
   ],
   "source": [
    "models = [('MultiNB', MultinomialNB(alpha=0.03)),\n",
    "          ('Calibrated MultiNB', CalibratedClassifierCV(\n",
    "              MultinomialNB(alpha=0.03), method='isotonic')),\n",
    "          ('Calibrated BernoulliNB', CalibratedClassifierCV(\n",
    "              BernoulliNB(alpha=0.03), method='isotonic')),\n",
    "          ('Calibrated Huber', CalibratedClassifierCV(\n",
    "              SGDClassifier(loss='modified_huber', alpha=1e-4,\n",
    "                            max_iter=2000, tol=1e-5, penalty='elasticnet'), method='sigmoid')),\n",
    "          ('Logit', LogisticRegression(C=30, max_iter = 2000))]\n",
    "\n",
    "vectorizer=TfidfVectorizer(token_pattern=r'\\w{1,}', sublinear_tf=True, ngram_range=(1,2))\n",
    "clf = VotingClassifier(models, voting='soft', weights=[3,3,3,1,1])\n",
    "\n",
    "X_train = vectorizer.fit_transform(train_df.text.values)\n",
    "y_train = train_df['author']\n",
    "X_test = vectorizer.transform(test_df.text.values)\n",
    "\n",
    "cv_scores = []\n",
    "pred_full_test = 0\n",
    "pred_train = np.zeros([train_df.shape[0], 5])\n",
    "\n",
    "kf = model_selection.KFold(n_splits=5, shuffle=True, random_state=2017)\n",
    "for dev_index, val_index in kf.split(train_X):\n",
    "    dev_X, val_X = X_train[dev_index], X_train[val_index]\n",
    "    dev_y, val_y = y_train[dev_index], y_train[val_index]\n",
    "    clf.fit(dev_X, dev_y)\n",
    "    pred_val_y = clf.predict_proba(val_X)\n",
    "    pred_full_test = pred_full_test + clf.predict_proba(X_test)\n",
    "    pred_train[val_index,:] = pred_val_y\n",
    "    cv_scores.append(metrics.log_loss(val_y, pred_val_y))\n",
    "    break\n",
    "print(\"cv scores : \", cv_scores)\n",
    "pred_full_test /= 5\n",
    "\n",
    "train_df[\"mix_tfidf_0\"] = pred_train[:,0]\n",
    "train_df[\"mix_tfidf_1\"] = pred_train[:,1]\n",
    "train_df[\"mix_tfidf_2\"] = pred_train[:,2]\n",
    "train_df[\"mix_tfidf_3\"] = pred_train[:,3]\n",
    "train_df[\"mix_tfidf_4\"] = pred_train[:,4]\n",
    "\n",
    "\n",
    "test_df[\"mix_tfidf_0\"] = pred_full_test[:,0]\n",
    "test_df[\"mix_tfidf_1\"] = pred_full_test[:,1]\n",
    "test_df[\"mix_tfidf_2\"] = pred_full_test[:,2]\n",
    "test_df[\"mix_tfidf_3\"] = pred_full_test[:,3]\n",
    "test_df[\"mix_tfidf_4\"] = pred_full_test[:,4]"
   ]
  },
  {
   "cell_type": "markdown",
   "metadata": {},
   "source": [
    "새롭게 만든 feature들을 이용하여 XGBoost를 돌려보겠습니다 "
   ]
  },
  {
   "cell_type": "code",
   "execution_count": 114,
   "metadata": {
    "colab": {
     "background_save": true
    },
    "id": "tDqTkCI5FsaE"
   },
   "outputs": [
    {
     "name": "stdout",
     "output_type": "stream",
     "text": [
      "[10:14:00] WARNING: /home/conda/feedstock_root/build_artifacts/xgboost_1598185621802/work/src/learner.cc:516: \n",
      "Parameters: { silent } might not be used.\n",
      "\n",
      "  This may not be accurate due to some parameters are only used in language bindings but\n",
      "  passed down to XGBoost core.  Or some parameters are not used but slip through this\n",
      "  verification. Please open an issue if you find above cases.\n",
      "\n",
      "\n",
      "[0]\ttrain-mlogloss:1.44290\ttest-mlogloss:1.44302\n",
      "Multiple eval metrics have been passed: 'test-mlogloss' will be used for early stopping.\n",
      "\n",
      "Will train until test-mlogloss hasn't improved in 50 rounds.\n",
      "[20]\ttrain-mlogloss:0.53541\ttest-mlogloss:0.53707\n",
      "[40]\ttrain-mlogloss:0.42600\ttest-mlogloss:0.43253\n",
      "[60]\ttrain-mlogloss:0.39264\ttest-mlogloss:0.40545\n",
      "[80]\ttrain-mlogloss:0.37289\ttest-mlogloss:0.39273\n",
      "[100]\ttrain-mlogloss:0.35764\ttest-mlogloss:0.38477\n",
      "[120]\ttrain-mlogloss:0.34521\ttest-mlogloss:0.37958\n",
      "[140]\ttrain-mlogloss:0.33461\ttest-mlogloss:0.37608\n",
      "[160]\ttrain-mlogloss:0.32481\ttest-mlogloss:0.37347\n",
      "[180]\ttrain-mlogloss:0.31574\ttest-mlogloss:0.37127\n",
      "[200]\ttrain-mlogloss:0.30736\ttest-mlogloss:0.36933\n",
      "[220]\ttrain-mlogloss:0.29946\ttest-mlogloss:0.36776\n",
      "[240]\ttrain-mlogloss:0.29190\ttest-mlogloss:0.36642\n",
      "[260]\ttrain-mlogloss:0.28465\ttest-mlogloss:0.36523\n",
      "[280]\ttrain-mlogloss:0.27784\ttest-mlogloss:0.36475\n",
      "[300]\ttrain-mlogloss:0.27134\ttest-mlogloss:0.36428\n",
      "[320]\ttrain-mlogloss:0.26523\ttest-mlogloss:0.36334\n",
      "[340]\ttrain-mlogloss:0.25902\ttest-mlogloss:0.36286\n",
      "[360]\ttrain-mlogloss:0.25296\ttest-mlogloss:0.36266\n",
      "[380]\ttrain-mlogloss:0.24710\ttest-mlogloss:0.36257\n",
      "[400]\ttrain-mlogloss:0.24162\ttest-mlogloss:0.36183\n",
      "[420]\ttrain-mlogloss:0.23613\ttest-mlogloss:0.36148\n",
      "[440]\ttrain-mlogloss:0.23098\ttest-mlogloss:0.36120\n",
      "[460]\ttrain-mlogloss:0.22584\ttest-mlogloss:0.36079\n",
      "[480]\ttrain-mlogloss:0.22094\ttest-mlogloss:0.36068\n",
      "[500]\ttrain-mlogloss:0.21626\ttest-mlogloss:0.36056\n",
      "[520]\ttrain-mlogloss:0.21160\ttest-mlogloss:0.36024\n",
      "[540]\ttrain-mlogloss:0.20718\ttest-mlogloss:0.36025\n",
      "[560]\ttrain-mlogloss:0.20268\ttest-mlogloss:0.36021\n",
      "Stopping. Best iteration:\n",
      "[529]\ttrain-mlogloss:0.20956\ttest-mlogloss:0.36003\n",
      "\n",
      "cv scores :  [0.3600302050949909]\n"
     ]
    }
   ],
   "source": [
    "cols_to_drop = ['index', 'text']\n",
    "train_X = train_df.drop(cols_to_drop+['author'], axis=1)\n",
    "test_X = test_df.drop(cols_to_drop, axis=1)\n",
    "\n",
    "kf = model_selection.KFold(n_splits=5, shuffle=True, random_state=2017)\n",
    "cv_scores = []\n",
    "pred_full_test = 0\n",
    "pred_train = np.zeros([train_df.shape[0], 5])\n",
    "for dev_index, val_index in kf.split(train_X):\n",
    "    dev_X, val_X = train_X.loc[dev_index], train_X.loc[val_index]\n",
    "    dev_y, val_y = train_y[dev_index], train_y[val_index]\n",
    "    pred_val_y, pred_test_y, model = runXGB(dev_X, dev_y, val_X, val_y, test_X, seed_val=0, colsample=0.7)\n",
    "    pred_full_test = pred_full_test + pred_test_y\n",
    "    pred_train[val_index,:] = pred_val_y\n",
    "    cv_scores.append(metrics.log_loss(val_y, pred_val_y))\n",
    "    break\n",
    "print(\"cv scores : \", cv_scores)\n",
    "\n",
    "out_df = pd.DataFrame(pred_full_test)\n",
    "out_df.columns = ['0', '1', '2','3', '4']\n",
    "out_df.insert(0, 'index', test_id)\n",
    "out_df.to_csv(\"dacon_submission.csv\", index=False)"
   ]
  },
  {
   "cell_type": "code",
   "execution_count": 115,
   "metadata": {
    "colab": {
     "background_save": true
    },
    "id": "g1cFaMaGFsaH"
   },
   "outputs": [
    {
     "data": {
      "image/png": "[encoded data removed]",
      "text/plain": [
       "<Figure size 864x864 with 1 Axes>"
      ]
     },
     "metadata": {
      "needs_background": "light"
     },
     "output_type": "display_data"
    }
   ],
   "source": [
    "### Plot the important variables ###\n",
    "fig, ax = plt.subplots(figsize=(12,12))\n",
    "xgb.plot_importance(model, max_num_features=50, height=0.8, ax=ax)\n",
    "plt.show()"
   ]
  },
  {
   "cell_type": "markdown",
   "metadata": {
    "id": "6oWd08MOFsaJ"
   },
   "source": [
    "중요도를 보면 tfidf벡터에 naive bayes 모델들을 사용한 것들이 훌륭한 성과를 거둔 것을 볼 수 있습니다"
   ]
  },
  {
   "cell_type": "code",
   "execution_count": 116,
   "metadata": {
    "colab": {
     "background_save": true
    },
    "id": "XFhvz0JbFsaJ"
   },
   "outputs": [
    {
     "data": {
      "image/png": "[encoded data removed]",
      "text/plain": [
       "<Figure size 576x576 with 2 Axes>"
      ]
     },
     "metadata": {
      "needs_background": "light"
     },
     "output_type": "display_data"
    }
   ],
   "source": [
    "cnf_matrix = confusion_matrix(val_y, np.argmax(pred_val_y,axis=1))\n",
    "np.set_printoptions(precision=2)\n",
    "\n",
    "# Plot non-normalized confusion matrix\n",
    "plt.figure(figsize=(8,8))\n",
    "plot_confusion_matrix(cnf_matrix, classes=['0', '1', '2', '3', '4'],\n",
    "                      title='Confusion matrix of XGB, without normalization')\n",
    "plt.show()"
   ]
  }
 ],
 "metadata": {
  "accelerator": "TPU",
  "colab": {
   "name": "simple-feature-engg-notebook-spooky-author.ipynb",
   "provenance": []
  },
  "kernelspec": {
   "display_name": "Python 3",
   "language": "python",
   "name": "python3"
  },
  "language_info": {
   "codemirror_mode": {
    "name": "ipython",
    "version": 3
   },
   "file_extension": ".py",
   "mimetype": "text/x-python",
   "name": "python",
   "nbconvert_exporter": "python",
   "pygments_lexer": "ipython3",
   "version": "3.8.3"
  }
 },
 "nbformat": 4,
 "nbformat_minor": 1
}
